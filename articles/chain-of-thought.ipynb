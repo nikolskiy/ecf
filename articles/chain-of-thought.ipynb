{
 "cells": [
  {
   "cell_type": "markdown",
   "metadata": {},
   "source": [
    "## A simple math problem"
   ]
  },
  {
   "cell_type": "markdown",
   "metadata": {},
   "source": [
    "There is a group of about 300 people who want to help each other. Unfortunatly a single person can meaningfully keep track of 150 people. Hovewer, all 300 want to cooperate and do it fairly to each other. How can they do that?\n",
    "\n",
    "It's sad that you will not find the problem in any school book. If you did, the initial answer would be simple. Why don't they write down who helped whom and how much."
   ]
  },
  {
   "cell_type": "code",
   "execution_count": 1,
   "metadata": {},
   "outputs": [],
   "source": [
    "from dataclasses import dataclass, field\n",
    "from time import time\n",
    "\n",
    "@dataclass\n",
    "class Transaction:\n",
    "    recipient: str\n",
    "    sender: str\n",
    "    amount: float\n",
    "    timestamp: float = field(default_factory=time)"
   ]
  },
  {
   "cell_type": "markdown",
   "metadata": {},
   "source": [
    "## Key block"
   ]
  },
  {
   "cell_type": "markdown",
   "metadata": {},
   "source": [
    "A block of transactions can help people keep track of provided help so you don't need to remember how much help you got and how much you recived."
   ]
  },
  {
   "cell_type": "code",
   "execution_count": 2,
   "metadata": {},
   "outputs": [],
   "source": [
    "block = []\n",
    "block.append(Transaction(\n",
    "    sender='Alise', recipient='Bob', amount=2.0\n",
    "))\n",
    "block.append(Transaction(\n",
    "    sender='Bob', recipient='Jon', amount=4.5\n",
    "))"
   ]
  },
  {
   "cell_type": "code",
   "execution_count": 3,
   "metadata": {},
   "outputs": [
    {
     "data": {
      "text/plain": [
       "[Transaction(recipient='Bob', sender='Alise', amount=2.0, timestamp=1542722885.5342875),\n",
       " Transaction(recipient='Jon', sender='Bob', amount=4.5, timestamp=1542722885.534319)]"
      ]
     },
     "execution_count": 3,
     "metadata": {},
     "output_type": "execute_result"
    }
   ],
   "source": [
    "block"
   ]
  },
  {
   "cell_type": "markdown",
   "metadata": {},
   "source": [
    "This covers direct person to person cooperation. Everyone is happy but if someone tries to cooperate inderectly, things fall apart. Since anyone can update the block, transactions can be removed. If people try to exchange units of help there is an insentive to mess with the transaction list.\n",
    "\n",
    "In order to prevent temparing with transactions in a block we can hash the block and include the hash in the next block. If someone changes transactions the hash will be different and the temparing will be apparant."
   ]
  },
  {
   "cell_type": "code",
   "execution_count": 4,
   "metadata": {},
   "outputs": [],
   "source": [
    "import hashlib\n",
    "\n",
    "class Block:\n",
    "    transactions: list\n",
    "    previous_hash: str = 'coinbase'\n",
    "\n",
    "    def __init__(self):\n",
    "        self.transactions = []\n",
    "\n",
    "    def append(self, t: Transaction):\n",
    "        self.transactions.append(t)\n",
    "    \n",
    "    def __repr__(self):\n",
    "        return 'transactions: {}\\n\\nprevious hash: {}'.format(self.transactions.__repr__(), self.previous_hash)\n",
    "    \n",
    "    def hash(self):\n",
    "        return hashlib.sha256(str(self).encode()).hexdigest()\n",
    "        "
   ]
  },
  {
   "cell_type": "code",
   "execution_count": 5,
   "metadata": {},
   "outputs": [],
   "source": [
    "block = Block()\n",
    "block.append(Transaction(\n",
    "    sender='Alise', recipient='Bob', amount=2.0\n",
    "))\n",
    "block.append(Transaction(\n",
    "    sender='Bob', recipient='Jon', amount=4.5\n",
    "))"
   ]
  },
  {
   "cell_type": "code",
   "execution_count": 6,
   "metadata": {},
   "outputs": [
    {
     "data": {
      "text/plain": [
       "transactions: [Transaction(recipient='Bob', sender='Alise', amount=2.0, timestamp=1542722885.867171), Transaction(recipient='Jon', sender='Bob', amount=4.5, timestamp=1542722885.8672497)]\n",
       "\n",
       "previous hash: coinbase"
      ]
     },
     "execution_count": 6,
     "metadata": {},
     "output_type": "execute_result"
    }
   ],
   "source": [
    "block"
   ]
  },
  {
   "cell_type": "code",
   "execution_count": 7,
   "metadata": {},
   "outputs": [
    {
     "data": {
      "text/plain": [
       "'feec7bb392b8b4af3aa03a6eb62b9a07e275b659d460b81d724fb833b982ab39'"
      ]
     },
     "execution_count": 7,
     "metadata": {},
     "output_type": "execute_result"
    }
   ],
   "source": [
    "block.hash()"
   ]
  },
  {
   "cell_type": "markdown",
   "metadata": {},
   "source": [
    "Hey, look at that! We got short and unique (for our purpuses) representation of our block and all the transactions in it."
   ]
  },
  {
   "cell_type": "code",
   "execution_count": 8,
   "metadata": {},
   "outputs": [],
   "source": [
    "block.append(Transaction(\n",
    "    sender='Jon', recipient='Bob', amount=1.0\n",
    "))"
   ]
  },
  {
   "cell_type": "code",
   "execution_count": 9,
   "metadata": {},
   "outputs": [
    {
     "data": {
      "text/plain": [
       "'46946d5e791572fbb7e7ebb849fa2d029cf32aea5e6945f27506601507665a55'"
      ]
     },
     "execution_count": 9,
     "metadata": {},
     "output_type": "execute_result"
    }
   ],
   "source": [
    "block.hash()"
   ]
  },
  {
   "cell_type": "markdown",
   "metadata": {},
   "source": [
    "## Verification chain"
   ]
  },
  {
   "cell_type": "markdown",
   "metadata": {},
   "source": [
    "Now anyone can put the blocks into a chain and it's easy to prove that no one tampared with prevous transactions."
   ]
  },
  {
   "cell_type": "code",
   "execution_count": 10,
   "metadata": {},
   "outputs": [],
   "source": [
    "import itertools\n",
    "\n",
    "\n",
    "class Chain:\n",
    "    blocks: list\n",
    "\n",
    "    def __init__(self):\n",
    "        \"\"\"We need initial block\"\"\"\n",
    "        block = Block()\n",
    "        block.append(Transaction(\n",
    "            sender='Alise', recipient='Alise', amount=2.0\n",
    "        ))\n",
    "        self.blocks = [block]\n",
    "\n",
    "    def push(self, block: Block):\n",
    "        block.previous_hash = self.blocks[-1].hash()\n",
    "        self.blocks.append(block)\n",
    "\n",
    "    @property\n",
    "    def tempared(self):\n",
    "        \"\"\"\n",
    "        It gives you possition of invalid block according to it's naighbour to the right.\n",
    "        If chain looks good it returns 0.\n",
    "        \"\"\"\n",
    "        a, b = itertools.tee(self.blocks)\n",
    "        next(b, None)\n",
    "        for position, pair in enumerate(zip(a, b)):\n",
    "            if pair[0].hash() != pair[1].previous_hash:\n",
    "                return position\n",
    "        return -1\n",
    "\n",
    "    @property\n",
    "    def is_valid(self):\n",
    "        if self.tempared < 0:\n",
    "            return True\n",
    "        return False\n",
    "        "
   ]
  },
  {
   "cell_type": "code",
   "execution_count": 11,
   "metadata": {},
   "outputs": [],
   "source": [
    "chain = Chain()"
   ]
  },
  {
   "cell_type": "code",
   "execution_count": 12,
   "metadata": {},
   "outputs": [
    {
     "data": {
      "text/plain": [
       "[transactions: [Transaction(recipient='Alise', sender='Alise', amount=2.0, timestamp=1542722886.5601923)]\n",
       " \n",
       " previous hash: coinbase]"
      ]
     },
     "execution_count": 12,
     "metadata": {},
     "output_type": "execute_result"
    }
   ],
   "source": [
    "chain.blocks"
   ]
  },
  {
   "cell_type": "code",
   "execution_count": 13,
   "metadata": {},
   "outputs": [],
   "source": [
    "for _ in range(10):\n",
    "    block = Block()\n",
    "    for j in range(3):\n",
    "        block.append(Transaction(sender='Bob', recipient='Jon', amount=j))\n",
    "    chain.push(block)"
   ]
  },
  {
   "cell_type": "code",
   "execution_count": 14,
   "metadata": {},
   "outputs": [
    {
     "data": {
      "text/plain": [
       "True"
      ]
     },
     "execution_count": 14,
     "metadata": {},
     "output_type": "execute_result"
    }
   ],
   "source": [
    "chain.is_valid"
   ]
  },
  {
   "cell_type": "code",
   "execution_count": 15,
   "metadata": {},
   "outputs": [
    {
     "data": {
      "text/plain": [
       "Transaction(recipient='Alise', sender='Alise', amount=2.0, timestamp=1542722886.5601923)"
      ]
     },
     "execution_count": 15,
     "metadata": {},
     "output_type": "execute_result"
    }
   ],
   "source": [
    "borrowed = chain.blocks[0].transactions.pop()\n",
    "borrowed"
   ]
  },
  {
   "cell_type": "code",
   "execution_count": 16,
   "metadata": {},
   "outputs": [
    {
     "data": {
      "text/plain": [
       "False"
      ]
     },
     "execution_count": 16,
     "metadata": {},
     "output_type": "execute_result"
    }
   ],
   "source": [
    "chain.is_valid"
   ]
  },
  {
   "cell_type": "code",
   "execution_count": 17,
   "metadata": {},
   "outputs": [
    {
     "data": {
      "text/plain": [
       "0"
      ]
     },
     "execution_count": 17,
     "metadata": {},
     "output_type": "execute_result"
    }
   ],
   "source": [
    "chain.tempared"
   ]
  },
  {
   "cell_type": "markdown",
   "metadata": {},
   "source": [
    "Let's put borrowed transaction back."
   ]
  },
  {
   "cell_type": "code",
   "execution_count": 18,
   "metadata": {},
   "outputs": [],
   "source": [
    "chain.blocks[0].transactions.append(borrowed)"
   ]
  },
  {
   "cell_type": "code",
   "execution_count": 19,
   "metadata": {},
   "outputs": [
    {
     "data": {
      "text/plain": [
       "True"
      ]
     },
     "execution_count": 19,
     "metadata": {},
     "output_type": "execute_result"
    }
   ],
   "source": [
    "chain.is_valid"
   ]
  },
  {
   "cell_type": "markdown",
   "metadata": {},
   "source": [
    "We can only mess with transactions in the last block."
   ]
  },
  {
   "cell_type": "code",
   "execution_count": 20,
   "metadata": {},
   "outputs": [],
   "source": [
    "chain.blocks[-1].append(Transaction(recipient='Alise', sender='Jon', amount=5))"
   ]
  },
  {
   "cell_type": "code",
   "execution_count": 21,
   "metadata": {},
   "outputs": [
    {
     "data": {
      "text/plain": [
       "True"
      ]
     },
     "execution_count": 21,
     "metadata": {},
     "output_type": "execute_result"
    }
   ],
   "source": [
    "chain.is_valid"
   ]
  },
  {
   "cell_type": "markdown",
   "metadata": {},
   "source": [
    "## Equal opportunity to verify"
   ]
  },
  {
   "cell_type": "markdown",
   "metadata": {},
   "source": [
    "Now who should have a right to create blocks and add them to the chain? Everyone who wants to do it! We just need to make sure it's not monopolized by a single person. Somehow we need to give equal-ish chance for everyone to verify previous blocks and add new ones. Here comes the elegant part. What if we allow previous hash to only start with `00`. Our block will have a special `nonce` field that can have anything that makes our block hash to start with `00`. If we use good hashing algorithm there is no other way but to try different possibilities untill we get what we need. This kind of help work should be rewarded. We'll allow that person to assign help units to herself out of nothing."
   ]
  },
  {
   "cell_type": "code",
   "execution_count": 22,
   "metadata": {},
   "outputs": [],
   "source": [
    "class Block:\n",
    "    transactions: list\n",
    "    previous_hash: str = 'coinbase'\n",
    "    nonce: str = 'blalba'\n",
    "\n",
    "    def __init__(self):\n",
    "        self.transactions = []\n",
    "\n",
    "    def append(self, t: Transaction):\n",
    "        self.transactions.append(t)\n",
    "    \n",
    "    def __repr__(self):\n",
    "        return 'transactions: {}\\n\\nprevious hash: {}\\n\\nnonce: {}'.format(\n",
    "            self.transactions.__repr__(), self.previous_hash, self.nonce\n",
    "        )\n",
    "    \n",
    "    def hash(self):\n",
    "        return hashlib.sha256(str(self).encode()).hexdigest()\n",
    "        "
   ]
  },
  {
   "cell_type": "code",
   "execution_count": 23,
   "metadata": {},
   "outputs": [],
   "source": [
    "from uuid import uuid4\n",
    "\n",
    "def add_block_with_proof_of_work(chain: Chain, block: Block):\n",
    "    last_block = chain.blocks[-1]\n",
    "    for i in range(100000):\n",
    "        last_block.nonce = uuid4()\n",
    "        temp_hash = last_block.hash()\n",
    "        if temp_hash.startswith('00'):\n",
    "            block.previous_hash = temp_hash\n",
    "            chain.blocks.append(block)\n",
    "            print('Found hash {} after {} iterations'.format(temp_hash, i))\n",
    "            break\n",
    "    else:\n",
    "        print('After {} iterations needed hash was not found.'.format(i))    "
   ]
  },
  {
   "cell_type": "code",
   "execution_count": 24,
   "metadata": {},
   "outputs": [],
   "source": [
    "chain = Chain()"
   ]
  },
  {
   "cell_type": "code",
   "execution_count": 25,
   "metadata": {},
   "outputs": [],
   "source": [
    "block = Block()\n",
    "for j in range(3):\n",
    "    block.append(Transaction(sender='Bob', recipient='Jon', amount=j))"
   ]
  },
  {
   "cell_type": "code",
   "execution_count": 26,
   "metadata": {},
   "outputs": [
    {
     "name": "stdout",
     "output_type": "stream",
     "text": [
      "Found hash 00b718417a69733cd1b8a5307cce3b2c8fe3115e89f1d52e436e7ec9a1ab607c after 15 iterations\n"
     ]
    }
   ],
   "source": [
    "add_block_with_proof_of_work(chain, block)"
   ]
  },
  {
   "cell_type": "code",
   "execution_count": 27,
   "metadata": {},
   "outputs": [
    {
     "data": {
      "text/plain": [
       "[transactions: [Transaction(recipient='Alise', sender='Alise', amount=2.0, timestamp=1542722887.949511)]\n",
       " \n",
       " previous hash: coinbase\n",
       " \n",
       " nonce: 3cc29415-3661-4450-b593-e1d8fcf96123,\n",
       " transactions: [Transaction(recipient='Jon', sender='Bob', amount=0, timestamp=1542722888.0491416), Transaction(recipient='Jon', sender='Bob', amount=1, timestamp=1542722888.0491526), Transaction(recipient='Jon', sender='Bob', amount=2, timestamp=1542722888.0491583)]\n",
       " \n",
       " previous hash: 00b718417a69733cd1b8a5307cce3b2c8fe3115e89f1d52e436e7ec9a1ab607c\n",
       " \n",
       " nonce: blalba]"
      ]
     },
     "execution_count": 27,
     "metadata": {},
     "output_type": "execute_result"
    }
   ],
   "source": [
    "chain.blocks"
   ]
  },
  {
   "cell_type": "code",
   "execution_count": 28,
   "metadata": {},
   "outputs": [
    {
     "data": {
      "text/plain": [
       "True"
      ]
     },
     "execution_count": 28,
     "metadata": {},
     "output_type": "execute_result"
    }
   ],
   "source": [
    "chain.is_valid"
   ]
  },
  {
   "cell_type": "markdown",
   "metadata": {},
   "source": [
    "Facinating part is that we can have any number of arbitrary rulles. As long as each helper (a.k.a miner) validates prevous work the system is stable. Each helper gets reward if her block becomes part of the chain and looses that reward if someone else decides it's wrong. Since no one has a guarantee to validate their own work everyone has to abide by acepted set of rules."
   ]
  },
  {
   "cell_type": "markdown",
   "metadata": {},
   "source": [
    "## Asymetric encryption to the rescue"
   ]
  },
  {
   "cell_type": "markdown",
   "metadata": {},
   "source": [
    "There is one last major problem. I can just register a transaction from Alise (since she has a lot of help units) to Bob. It will be all valid but Alise might not even know she transfared her help units to Bob."
   ]
  },
  {
   "cell_type": "markdown",
   "metadata": {},
   "source": [
    "Sadly python doesn't have many encryption features in its standard library. Cryptography is a big field. There are lot's of libs that can generate keys like PyCryptodome but we need something simple here. [ecdsa](https://github.com/warner/python-ecdsa) is the simplest to use for signature purpuses. After `pip install ecdsa` we can import and use it."
   ]
  },
  {
   "cell_type": "code",
   "execution_count": 29,
   "metadata": {},
   "outputs": [
    {
     "data": {
      "text/plain": [
       "True"
      ]
     },
     "execution_count": 29,
     "metadata": {},
     "output_type": "execute_result"
    }
   ],
   "source": [
    "import ecdsa\n",
    "from base64 import b64decode, b64encode\n",
    "\n",
    "sk = ecdsa.SigningKey.generate(curve=ecdsa.SECP256k1)\n",
    "vk = sk.get_verifying_key()\n",
    "signature = sk.sign(vk.to_string())\n",
    "vk.verify(signature, vk.to_string())"
   ]
  },
  {
   "cell_type": "markdown",
   "metadata": {},
   "source": [
    "The idea looks simple but `sk` (Signature Key) and `vk` (Verifying Key) are objects so we can't just put them into transaction."
   ]
  },
  {
   "cell_type": "code",
   "execution_count": 30,
   "metadata": {},
   "outputs": [
    {
     "data": {
      "text/plain": [
       "(<ecdsa.keys.SigningKey at 0x7fdfb6eec0b8>,\n",
       " <ecdsa.keys.VerifyingKey at 0x7fdfb6eec278>)"
      ]
     },
     "execution_count": 30,
     "metadata": {},
     "output_type": "execute_result"
    }
   ],
   "source": [
    "sk, vk"
   ]
  },
  {
   "cell_type": "markdown",
   "metadata": {},
   "source": [
    "There are helper methods but it still looks ugly."
   ]
  },
  {
   "cell_type": "code",
   "execution_count": 31,
   "metadata": {},
   "outputs": [
    {
     "data": {
      "text/plain": [
       "b'\\x8c\\x06\\xfd\\x92\\x8ac\\xf1\\x7fm@\\x00\\r\\xfboB\\t\\xf1\\x11]\\x87+K\\xf8u\\xa5:\\x1aAW53\\xc5\\xc9\\x03\\xbb\\xeaS$\\xc2Y\\xb3\\xb5\\xae\\x98-M\\xef\\xber \\xb3\\x8e\\x1c\\x9c5\\x8e\\xb3\\xd3\\xda\\xd9\\xf1~\\xd1\\xaa'"
      ]
     },
     "execution_count": 31,
     "metadata": {},
     "output_type": "execute_result"
    }
   ],
   "source": [
    "vk.to_string()"
   ]
  },
  {
   "cell_type": "code",
   "execution_count": 32,
   "metadata": {},
   "outputs": [
    {
     "data": {
      "text/plain": [
       "b')\\x88q\\x07\\x06e\\xa7\\xe8P(\\xe7\\xeac\\xb4\\xcf\\xd1\\xbbC\\xb1\\x1c\\xd1\\xaa\\xdb\\x9f\\t\\xc5w\\x0f\\xed\\x9c\\xb5\\xf2:\\xd8\\x14\\xc9\\xfb^\\xf2 \\xb9\\xd0q\\x14a\\xde\\x0e{[If1\\x04\\x05\\x8c\\x19W\\xf0LQe8\\x9f3'"
      ]
     },
     "execution_count": 32,
     "metadata": {},
     "output_type": "execute_result"
    }
   ],
   "source": [
    "signature"
   ]
  },
  {
   "cell_type": "markdown",
   "metadata": {},
   "source": [
    "Let's encode them."
   ]
  },
  {
   "cell_type": "code",
   "execution_count": 33,
   "metadata": {},
   "outputs": [],
   "source": [
    "from base64 import b64encode, b64decode"
   ]
  },
  {
   "cell_type": "code",
   "execution_count": 34,
   "metadata": {},
   "outputs": [
    {
     "name": "stdout",
     "output_type": "stream",
     "text": [
      "public key: b'jAb9kopj8X9tQAAN+29CCfERXYcrS/h1pToaQVc1M8XJA7vqUyTCWbO1rpgtTe++ciCzjhycNY6z09rZ8X7Rqg==' \n",
      "signature:  b'KYhxBwZlp+hQKOfqY7TP0btDsRzRqtufCcV3D+2ctfI62BTJ+17yILnQcRRh3g57W0lmMQQFjBlX8ExRZTifMw=='\n"
     ]
    }
   ],
   "source": [
    "public_key = b64encode(vk.to_string())\n",
    "sign = b64encode(signature)\n",
    "\n",
    "print('public key: {} \\nsignature:  {}'.format(public_key, sign))"
   ]
  },
  {
   "cell_type": "markdown",
   "metadata": {},
   "source": [
    "That looks a little better. Maybe we can do better?"
   ]
  },
  {
   "cell_type": "code",
   "execution_count": 35,
   "metadata": {},
   "outputs": [],
   "source": [
    "from binascii import hexlify, unhexlify"
   ]
  },
  {
   "cell_type": "code",
   "execution_count": 36,
   "metadata": {},
   "outputs": [
    {
     "name": "stdout",
     "output_type": "stream",
     "text": [
      "public key: b'8c06fd928a63f17f6d40000dfb6f4209f1115d872b4bf875a53a1a41573533c5c903bbea5324c259b3b5ae982d4defbe7220b38e1c9c358eb3d3dad9f17ed1aa' \n",
      "signature:  b'298871070665a7e85028e7ea63b4cfd1bb43b11cd1aadb9f09c5770fed9cb5f23ad814c9fb5ef220b9d0711461de0e7b5b49663104058c1957f04c5165389f33'\n"
     ]
    }
   ],
   "source": [
    "public_key = hexlify(vk.to_string())\n",
    "sign = hexlify(signature)\n",
    "\n",
    "print('public key: {} \\nsignature:  {}'.format(public_key, sign))"
   ]
  },
  {
   "cell_type": "markdown",
   "metadata": {},
   "source": [
    "It looks prettier but longer. I'll stick with shourter version here. Onward to our signature field!"
   ]
  },
  {
   "cell_type": "code",
   "execution_count": 37,
   "metadata": {},
   "outputs": [],
   "source": [
    "# Our new transaction data\n",
    "@dataclass\n",
    "class Transaction:\n",
    "    recipient: bytes\n",
    "    sender: bytes\n",
    "    amount: float\n",
    "    signature: bytes = b'' # New signature filed\n",
    "    timestamp: float = field(default_factory=time)"
   ]
  },
  {
   "cell_type": "code",
   "execution_count": 38,
   "metadata": {},
   "outputs": [],
   "source": [
    "def sign(public: bytes, private: bytes) -> bytes:\n",
    "    pk = b64decode(private)\n",
    "    signing_key = ecdsa.SigningKey.from_string(pk, curve=ecdsa.SECP256k1)\n",
    "    signature = b64encode(signing_key.sign(public))\n",
    "    return signature\n",
    "\n",
    "\n",
    "def is_valid(transaction: Transaction) -> bool:\n",
    "    pub_key = ecdsa.VerifyingKey.from_string(b64decode(transaction.sender))\n",
    "    return pub_key.verify(b64decode(transaction.signature), transaction.sender)\n",
    "\n",
    "\n",
    "class Person:\n",
    "    public: bytes\n",
    "    private: bytes\n",
    "\n",
    "    def __init__(self):\n",
    "        sk = ecdsa.SigningKey.generate(curve=ecdsa.SECP256k1)\n",
    "        vk = sk.get_verifying_key()\n",
    "        self.public = b64encode(vk.to_string())\n",
    "        self.private = b64encode(sk.to_string())\n",
    "\n",
    "    def __repr__(self):\n",
    "        return str(self.public)\n",
    "\n",
    "    def send_help(self, to:bytes, amount: float) -> Transaction:\n",
    "        return Transaction(\n",
    "            recipient=to,\n",
    "            sender=self.public,\n",
    "            signature=sign(self.public, self.private),\n",
    "            amount=amount\n",
    "        )"
   ]
  },
  {
   "cell_type": "markdown",
   "metadata": {},
   "source": [
    "Now if Alis wants to send help to Bob, first she and Bob have to genarate key pairs."
   ]
  },
  {
   "cell_type": "code",
   "execution_count": 39,
   "metadata": {},
   "outputs": [],
   "source": [
    "alise = Person()\n",
    "bob = Person()\n",
    "jon = Person()"
   ]
  },
  {
   "cell_type": "code",
   "execution_count": 40,
   "metadata": {},
   "outputs": [
    {
     "data": {
      "text/plain": [
       "Transaction(recipient=b'3dJw2vTbLZgmDwRgnk5JBDBNIXjk3n2XkJw4DxGTu0hmBv9M8TOAGJBjDGd5tWD2E1h4TkQMUqLzfNgLpQ/KMA==', sender=b'AEFdQJ0snX6PiXe+DQTYzeiHeDKSc5if4qzrAvoD0SkjcsXjCh5v0WLhq5rn38uEnnmb8gDXiWiWtrCWk+G9HA==', amount=2.0, signature=b'Pb2RHLslVBVMrTDVQc7tUWKwUpzENXulrCzRrA64cL4xAlyHEXAqoV11GmdLTyY7D6Hp9Nv9njrCv1ZzfoKOXA==', timestamp=1542722890.0637498)"
      ]
     },
     "execution_count": 40,
     "metadata": {},
     "output_type": "execute_result"
    }
   ],
   "source": [
    "alise.send_help(to=bob.public, amount=2.0)"
   ]
  },
  {
   "cell_type": "code",
   "execution_count": 41,
   "metadata": {},
   "outputs": [],
   "source": [
    "chain = Chain()"
   ]
  },
  {
   "cell_type": "code",
   "execution_count": 42,
   "metadata": {},
   "outputs": [],
   "source": [
    "block = Block()"
   ]
  },
  {
   "cell_type": "code",
   "execution_count": 43,
   "metadata": {},
   "outputs": [],
   "source": [
    "block.append(alise.send_help(to=bob.public, amount=10.0))\n",
    "block.append(bob.send_help(to=jon.public, amount=5.0))\n",
    "block.append(jon.send_help(to=alise.public, amount=2.5))"
   ]
  },
  {
   "cell_type": "code",
   "execution_count": 44,
   "metadata": {},
   "outputs": [
    {
     "name": "stdout",
     "output_type": "stream",
     "text": [
      "Found hash 0005ba69e84aeef48407dff1c22f68849ad7148f9410b1789213cfe099483e61 after 74 iterations\n"
     ]
    }
   ],
   "source": [
    "add_block_with_proof_of_work(chain, block)"
   ]
  },
  {
   "cell_type": "code",
   "execution_count": 45,
   "metadata": {},
   "outputs": [
    {
     "data": {
      "text/plain": [
       "[transactions: [Transaction(recipient='Alise', sender='Alise', amount=2.0, signature=b'', timestamp=1542722890.127797)]\n",
       " \n",
       " previous hash: coinbase\n",
       " \n",
       " nonce: 3e7ad093-3d27-4c78-becb-f43971821b97,\n",
       " transactions: [Transaction(recipient=b'3dJw2vTbLZgmDwRgnk5JBDBNIXjk3n2XkJw4DxGTu0hmBv9M8TOAGJBjDGd5tWD2E1h4TkQMUqLzfNgLpQ/KMA==', sender=b'AEFdQJ0snX6PiXe+DQTYzeiHeDKSc5if4qzrAvoD0SkjcsXjCh5v0WLhq5rn38uEnnmb8gDXiWiWtrCWk+G9HA==', amount=10.0, signature=b'c+vb0FOajdkLIUJYQ0iAImNBoqphSsc8B2rL7TzbpAy/93r0m8qeifhcqvmlGK2zdMUNeZb+Vgh1pNhL+KCEmA==', timestamp=1542722890.4596875), Transaction(recipient=b'Hm6ThkxMJl+6eLaPOcaIxYG/b9w7MivLv+xAUHDY+4D08yojyfkBmJn445lC7KjDj2mnQGqlNWQZC+L4pP4kJA==', sender=b'3dJw2vTbLZgmDwRgnk5JBDBNIXjk3n2XkJw4DxGTu0hmBv9M8TOAGJBjDGd5tWD2E1h4TkQMUqLzfNgLpQ/KMA==', amount=5.0, signature=b'c3vxAkgbquVTAS9WMsCpdiLzUqDthgqVPlqiSFfoHjTDPnVnSd3ZOt6EaRKYHfNdE5IuEcKnWRfcqTzR07uvrA==', timestamp=1542722890.5565984), Transaction(recipient=b'AEFdQJ0snX6PiXe+DQTYzeiHeDKSc5if4qzrAvoD0SkjcsXjCh5v0WLhq5rn38uEnnmb8gDXiWiWtrCWk+G9HA==', sender=b'Hm6ThkxMJl+6eLaPOcaIxYG/b9w7MivLv+xAUHDY+4D08yojyfkBmJn445lC7KjDj2mnQGqlNWQZC+L4pP4kJA==', amount=2.5, signature=b'lsLpKy/iQ80CM1rLkazkVj8nJOJ+LKhFh84e/rHUgJMDGjBX/HgKC2DNwCs0kv4pQy9/Qm+qSaEcCsoL+9rqFQ==', timestamp=1542722890.6507485)]\n",
       " \n",
       " previous hash: 0005ba69e84aeef48407dff1c22f68849ad7148f9410b1789213cfe099483e61\n",
       " \n",
       " nonce: blalba]"
      ]
     },
     "execution_count": 45,
     "metadata": {},
     "output_type": "execute_result"
    }
   ],
   "source": [
    "chain.blocks"
   ]
  },
  {
   "cell_type": "code",
   "execution_count": 46,
   "metadata": {},
   "outputs": [],
   "source": [
    "block = Block()"
   ]
  },
  {
   "cell_type": "code",
   "execution_count": 47,
   "metadata": {},
   "outputs": [],
   "source": [
    "block.append(alise.send_help(to=bob.public, amount=2.5))\n",
    "block.append(bob.send_help(to=jon.public, amount=5.0))\n",
    "block.append(jon.send_help(to=alise.public, amount=10.0))"
   ]
  },
  {
   "cell_type": "code",
   "execution_count": 48,
   "metadata": {},
   "outputs": [
    {
     "name": "stdout",
     "output_type": "stream",
     "text": [
      "Found hash 0043a4c7b715bd113389aee7fb9f52bf16439889ecfa013cda15036208d46c2d after 27 iterations\n"
     ]
    }
   ],
   "source": [
    "add_block_with_proof_of_work(chain, block)"
   ]
  },
  {
   "cell_type": "code",
   "execution_count": 49,
   "metadata": {},
   "outputs": [
    {
     "data": {
      "text/plain": [
       "[transactions: [Transaction(recipient='Alise', sender='Alise', amount=2.0, signature=b'', timestamp=1542722890.127797)]\n",
       " \n",
       " previous hash: coinbase\n",
       " \n",
       " nonce: 3e7ad093-3d27-4c78-becb-f43971821b97,\n",
       " transactions: [Transaction(recipient=b'3dJw2vTbLZgmDwRgnk5JBDBNIXjk3n2XkJw4DxGTu0hmBv9M8TOAGJBjDGd5tWD2E1h4TkQMUqLzfNgLpQ/KMA==', sender=b'AEFdQJ0snX6PiXe+DQTYzeiHeDKSc5if4qzrAvoD0SkjcsXjCh5v0WLhq5rn38uEnnmb8gDXiWiWtrCWk+G9HA==', amount=10.0, signature=b'c+vb0FOajdkLIUJYQ0iAImNBoqphSsc8B2rL7TzbpAy/93r0m8qeifhcqvmlGK2zdMUNeZb+Vgh1pNhL+KCEmA==', timestamp=1542722890.4596875), Transaction(recipient=b'Hm6ThkxMJl+6eLaPOcaIxYG/b9w7MivLv+xAUHDY+4D08yojyfkBmJn445lC7KjDj2mnQGqlNWQZC+L4pP4kJA==', sender=b'3dJw2vTbLZgmDwRgnk5JBDBNIXjk3n2XkJw4DxGTu0hmBv9M8TOAGJBjDGd5tWD2E1h4TkQMUqLzfNgLpQ/KMA==', amount=5.0, signature=b'c3vxAkgbquVTAS9WMsCpdiLzUqDthgqVPlqiSFfoHjTDPnVnSd3ZOt6EaRKYHfNdE5IuEcKnWRfcqTzR07uvrA==', timestamp=1542722890.5565984), Transaction(recipient=b'AEFdQJ0snX6PiXe+DQTYzeiHeDKSc5if4qzrAvoD0SkjcsXjCh5v0WLhq5rn38uEnnmb8gDXiWiWtrCWk+G9HA==', sender=b'Hm6ThkxMJl+6eLaPOcaIxYG/b9w7MivLv+xAUHDY+4D08yojyfkBmJn445lC7KjDj2mnQGqlNWQZC+L4pP4kJA==', amount=2.5, signature=b'lsLpKy/iQ80CM1rLkazkVj8nJOJ+LKhFh84e/rHUgJMDGjBX/HgKC2DNwCs0kv4pQy9/Qm+qSaEcCsoL+9rqFQ==', timestamp=1542722890.6507485)]\n",
       " \n",
       " previous hash: 0005ba69e84aeef48407dff1c22f68849ad7148f9410b1789213cfe099483e61\n",
       " \n",
       " nonce: 7170178b-619f-4ce7-a338-b84ac4ed75e2,\n",
       " transactions: [Transaction(recipient=b'3dJw2vTbLZgmDwRgnk5JBDBNIXjk3n2XkJw4DxGTu0hmBv9M8TOAGJBjDGd5tWD2E1h4TkQMUqLzfNgLpQ/KMA==', sender=b'AEFdQJ0snX6PiXe+DQTYzeiHeDKSc5if4qzrAvoD0SkjcsXjCh5v0WLhq5rn38uEnnmb8gDXiWiWtrCWk+G9HA==', amount=2.5, signature=b'G2YDhpLaeFkYNIK+h4MV10xMSzvCuT0A3pNYTOappC4YhatI9LR/eegmp8STf7lpwRYlBoJdApdmp5hzpTpDvg==', timestamp=1542722891.091851), Transaction(recipient=b'Hm6ThkxMJl+6eLaPOcaIxYG/b9w7MivLv+xAUHDY+4D08yojyfkBmJn445lC7KjDj2mnQGqlNWQZC+L4pP4kJA==', sender=b'3dJw2vTbLZgmDwRgnk5JBDBNIXjk3n2XkJw4DxGTu0hmBv9M8TOAGJBjDGd5tWD2E1h4TkQMUqLzfNgLpQ/KMA==', amount=5.0, signature=b'd7YI4CwdqsqM3zkCbUojmk0hOVvvYNTz2eO35SjLp6KlYlOPv4DVj1oUL/A+QzDeFGqvZxUQAk6QV5+zGPgN1g==', timestamp=1542722891.1863933), Transaction(recipient=b'AEFdQJ0snX6PiXe+DQTYzeiHeDKSc5if4qzrAvoD0SkjcsXjCh5v0WLhq5rn38uEnnmb8gDXiWiWtrCWk+G9HA==', sender=b'Hm6ThkxMJl+6eLaPOcaIxYG/b9w7MivLv+xAUHDY+4D08yojyfkBmJn445lC7KjDj2mnQGqlNWQZC+L4pP4kJA==', amount=10.0, signature=b'A46gPTSBHDZsfBhEY934WahJvpLjULUvl3/oXsuXRqF2YB34QlkpDl46r7MjgijouyopPWLhLFaFAQiEQoyREg==', timestamp=1542722891.2789943)]\n",
       " \n",
       " previous hash: 0043a4c7b715bd113389aee7fb9f52bf16439889ecfa013cda15036208d46c2d\n",
       " \n",
       " nonce: blalba]"
      ]
     },
     "execution_count": 49,
     "metadata": {},
     "output_type": "execute_result"
    }
   ],
   "source": [
    "chain.blocks"
   ]
  },
  {
   "cell_type": "markdown",
   "metadata": {},
   "source": [
    "Okay, we sufficiently rediculus-ified our output but most of it because of all the hashing strings. If we ignore those things are actually very simple: \n",
    "\n",
    "1. There are transactions with who gave help to who and a signature so there is a way to validate the transaction. \n",
    "2. There is a `nonce` field that we use to calculate hash for next block. \n",
    "3. There is a prevous hash filed.\n",
    "\n",
    "You probably noticed that anyone can send any amount of help units. How do we make sure that help units appear only from mining? We don't. We just make a rule that people can spend only as much as they have and only miners can assign value to themselfs. As long as miners verify each others work they will follow any kind of verifiable rulles. In order to make sure a person doesn't sepend more than she has miners just need to sum up all the transactions involving that public address. Rule that transactions are valid only on rainy wheather will not work becouse our chain doesn't contain this information."
   ]
  },
  {
   "cell_type": "markdown",
   "metadata": {},
   "source": [
    "## Is this all there is to blockchain and cryptocoins?"
   ]
  },
  {
   "cell_type": "markdown",
   "metadata": {},
   "source": [
    "Yes, it covers main consepts. And no, I wouldn't trast more than a dollar to this particular one (even if we don't take into account lots of small missing parts). When I started this quest I suspected that its possible to uncover details that I wouldn't find just by reading articles about blockchain. The digest of what I learned while writing this simple blockchain is in `Code Hash` article."
   ]
  },
  {
   "cell_type": "markdown",
   "metadata": {},
   "source": [
    "# Code hash"
   ]
  },
  {
   "cell_type": "markdown",
   "metadata": {},
   "source": [
    "I went on a quset to implement cryptocurency consepts in code. In my prevous article `In code we trust` I argued that one must impement cryptocurency consepts in code in order to understand them. I still stand by that statement but now I understood why very few blogers do that. It is very borring to read. Don't get me wrong it was fun to think about it and write code but I must be honest with myself and admit that very few people will want to read it carefully. My `Chain of thought` jupyter notebook is for those brave soles. The rest of the article focuses on lessons I learned while writing code for a simple blockchain.\n",
    "\n",
    "[pic]\n",
    "\n",
    "## Not money\n",
    "It's better to not think of cryptocurrency as money. It's an immutable list with transactions. When you add entities that maintain the ladger and validate each outhers entries, the most apparant application is to \"send\" units of value from one address to another. The true value of such ladgers comes from enabaling cooperation between people, autobeings, aliens, unicorns, or anything else that follows the protocol. \n",
    "\n",
    "## Not complicated\n",
    "It turns out that the main consepts are very simple. I reconstructed them with very few lines of code starting from a simple list of transactions and hardening it against temparing. Specific implementation matters a lot. That is what separates successful coin worth millions of dollars from worthless crap.\n",
    "\n",
    "## Not a database\n",
    "I kind of knew that before but I didn't realy appriciated how special the first and the last blocks are. Blockchain itself is a crappy database. It's only good for verifying chain integety. It's incredebly ineficient event at that task. Any blockchain should have better data format on top of it. It would be interesting to check what data formats are used by famous coins.\n",
    "\n",
    "## Game of rulles\n",
    "It's facinating that a lot of coin rules don't need to be spelled out explicitly in the blockchain. They are reinforced only by miner implementation. For example blockchain doesn't need to contain wallet balances. It's calculated by summing up all the transactions with the wallet. This is cool feature but it's easy to create ambigious rulles or rulles with uninteded consiqunces. Let's say we allow some negative balance in our transactions. It might work for a while untill some smart soule realizes that she can create wallets, empty them down to that negative amount into another wallet, and abandon the once with negative amount. Even though the example is simple relationship between negative account balance and the ability to limitlessly print the coin is not very apperant. It seems to me that complexity increases with the number of those rules. With complexity the chanse that something like that is possible increases as well.\n",
    "\n",
    "## Validation right\n",
    "Destributing validation right using prof of work is genious but it feels wrong. It reminds me the famous Arthur C. Clark story [The Nine Billion Names of God](https://en.wikipedia.org/wiki/The_Nine_Billion_Names_of_God). No wonder people are looking for alternatives. I wish there was some quantum randomnes law that could distribute validation right and didn't accept bribes. I doubt it's possible in this universe though.\n",
    "\n",
    "## What's next?\n",
    "First I'm going to look into some real blockchain fromats like Bitcon, Etherioum, Steem, and maybe another interesting coin. There must be immutable database-like structures that are alrady implemented. After that I'll work on some tools that can tell me some stats about blockchains. For example I'm very courious what's the ususal Bitcoin tail. The rule is that the longest chain wins but how many blocks die on average replaced by a longer chain."
   ]
  },
  {
   "cell_type": "code",
   "execution_count": null,
   "metadata": {},
   "outputs": [],
   "source": []
  }
 ],
 "metadata": {
  "kernelspec": {
   "display_name": "Python 3",
   "language": "python",
   "name": "python3"
  },
  "language_info": {
   "codemirror_mode": {
    "name": "ipython",
    "version": 3
   },
   "file_extension": ".py",
   "mimetype": "text/x-python",
   "name": "python",
   "nbconvert_exporter": "python",
   "pygments_lexer": "ipython3",
   "version": "3.7.0"
  }
 },
 "nbformat": 4,
 "nbformat_minor": 2
}
