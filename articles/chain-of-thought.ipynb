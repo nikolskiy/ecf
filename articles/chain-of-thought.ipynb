{
 "cells": [
  {
   "cell_type": "markdown",
   "metadata": {},
   "source": [
    "## A simple math problem"
   ]
  },
  {
   "cell_type": "markdown",
   "metadata": {},
   "source": [
    "There is a group of 300 people who want to help each other. Unfortunately, a single person can meaningfully keep track of 150 people. Hovewer, all 300 want to cooperate and treat each other fairly. How can they do that?\n",
    "\n",
    "It's sad that you will not find the problem in any schoolbook. If you did, the initial answer would be simple. Why don't they write down who helped whom and how much?"
   ]
  },
  {
   "cell_type": "code",
   "execution_count": 1,
   "metadata": {},
   "outputs": [],
   "source": [
    "from dataclasses import dataclass, field\n",
    "from time import time\n",
    "\n",
    "@dataclass\n",
    "class Transaction:\n",
    "    recipient: str\n",
    "    sender: str\n",
    "    amount: float\n",
    "    timestamp: float = field(default_factory=time)"
   ]
  },
  {
   "cell_type": "markdown",
   "metadata": {},
   "source": [
    "## Key block"
   ]
  },
  {
   "cell_type": "markdown",
   "metadata": {},
   "source": [
    "A block of transactions can help people keep track of any help provided. That way you don't need to remember how much help you gave and how much you received."
   ]
  },
  {
   "cell_type": "code",
   "execution_count": 2,
   "metadata": {},
   "outputs": [],
   "source": [
    "block = []\n",
    "block.append(Transaction(\n",
    "    sender='Alice', recipient='Bob', amount=2.0\n",
    "))\n",
    "block.append(Transaction(\n",
    "    sender='Bob', recipient='Jon', amount=4.5\n",
    "))"
   ]
  },
  {
   "cell_type": "code",
   "execution_count": 3,
   "metadata": {},
   "outputs": [
    {
     "data": {
      "text/plain": [
       "[Transaction(recipient='Bob', sender='Alice', amount=2.0, timestamp=1543083974.4465837),\n",
       " Transaction(recipient='Jon', sender='Bob', amount=4.5, timestamp=1543083974.4466345)]"
      ]
     },
     "execution_count": 3,
     "metadata": {},
     "output_type": "execute_result"
    }
   ],
   "source": [
    "block"
   ]
  },
  {
   "cell_type": "markdown",
   "metadata": {},
   "source": [
    "This covers direct person to person cooperation. Everyone is happy but if someone tries to cooperate indirectly, things fall apart. Since anyone can update the block, transactions can be removed. If people try to exchange units of help, there is an incentive to mess with the transaction list.\n",
    "\n",
    "In order to prevent tampering with transactions in a block we can hash the block and include the hash in the next block. If someone changes transactions, the hash will be different and the tampering will be apparent."
   ]
  },
  {
   "cell_type": "code",
   "execution_count": 4,
   "metadata": {},
   "outputs": [],
   "source": [
    "import hashlib\n",
    "\n",
    "class Block:\n",
    "    transactions: list\n",
    "    previous_hash: str = 'coinbase'\n",
    "\n",
    "    def __init__(self):\n",
    "        self.transactions = []\n",
    "\n",
    "    def append(self, t: Transaction):\n",
    "        self.transactions.append(t)\n",
    "    \n",
    "    def __repr__(self):\n",
    "        return 'transactions: {}\\n\\nprevious hash: {}'.format(self.transactions.__repr__(), self.previous_hash)\n",
    "    \n",
    "    def hash(self):\n",
    "        return hashlib.sha256(str(self).encode()).hexdigest()\n",
    "        "
   ]
  },
  {
   "cell_type": "code",
   "execution_count": 5,
   "metadata": {},
   "outputs": [],
   "source": [
    "block = Block()\n",
    "block.append(Transaction(\n",
    "    sender='Alice', recipient='Bob', amount=2.0\n",
    "))\n",
    "block.append(Transaction(\n",
    "    sender='Bob', recipient='Jon', amount=4.5\n",
    "))"
   ]
  },
  {
   "cell_type": "code",
   "execution_count": 6,
   "metadata": {},
   "outputs": [
    {
     "data": {
      "text/plain": [
       "transactions: [Transaction(recipient='Bob', sender='Alice', amount=2.0, timestamp=1543083974.8359885), Transaction(recipient='Jon', sender='Bob', amount=4.5, timestamp=1543083974.8361387)]\n",
       "\n",
       "previous hash: coinbase"
      ]
     },
     "execution_count": 6,
     "metadata": {},
     "output_type": "execute_result"
    }
   ],
   "source": [
    "block"
   ]
  },
  {
   "cell_type": "code",
   "execution_count": 7,
   "metadata": {},
   "outputs": [
    {
     "data": {
      "text/plain": [
       "'9b475a78e622b09eaa482300ef45e8f057f0ea05a0e03e8a7304834ff59ee0ca'"
      ]
     },
     "execution_count": 7,
     "metadata": {},
     "output_type": "execute_result"
    }
   ],
   "source": [
    "block.hash()"
   ]
  },
  {
   "cell_type": "markdown",
   "metadata": {},
   "source": [
    "Hey, look at that! We got a short and unique (for our purposes) representation of our block and all the transactions in it."
   ]
  },
  {
   "cell_type": "code",
   "execution_count": 8,
   "metadata": {},
   "outputs": [],
   "source": [
    "block.append(Transaction(\n",
    "    sender='Jon', recipient='Bob', amount=1.0\n",
    "))"
   ]
  },
  {
   "cell_type": "code",
   "execution_count": 9,
   "metadata": {},
   "outputs": [
    {
     "data": {
      "text/plain": [
       "'ba899966c39498a80c9158dcae42cee1faba2e44f56c59b7981bd85766313068'"
      ]
     },
     "execution_count": 9,
     "metadata": {},
     "output_type": "execute_result"
    }
   ],
   "source": [
    "block.hash()"
   ]
  },
  {
   "cell_type": "markdown",
   "metadata": {},
   "source": [
    "## Verification"
   ]
  },
  {
   "cell_type": "markdown",
   "metadata": {},
   "source": [
    "Now anyone can put the blocks into a chain and it's easy to prove that no one tampered with prevous transactions."
   ]
  },
  {
   "cell_type": "code",
   "execution_count": 10,
   "metadata": {},
   "outputs": [],
   "source": [
    "import itertools\n",
    "\n",
    "\n",
    "class Chain:\n",
    "    blocks: list\n",
    "\n",
    "    def __init__(self):\n",
    "        \"\"\"We need initial block\"\"\"\n",
    "        block = Block()\n",
    "        block.append(Transaction(\n",
    "            sender='Alice', recipient='Alice', amount=2.0\n",
    "        ))\n",
    "        self.blocks = [block]\n",
    "\n",
    "    def push(self, block: Block):\n",
    "        block.previous_hash = self.blocks[-1].hash()\n",
    "        self.blocks.append(block)\n",
    "\n",
    "    @property\n",
    "    def tampered(self):\n",
    "        \"\"\"\n",
    "        This gives you the position of an invalid block according to its neighbour to the right.\n",
    "        If the chain looks good, it returns 0.\n",
    "        \"\"\"\n",
    "        a, b = itertools.tee(self.blocks)\n",
    "        next(b, None)\n",
    "        for position, pair in enumerate(zip(a, b)):\n",
    "            if pair[0].hash() != pair[1].previous_hash:\n",
    "                return position\n",
    "        return -1\n",
    "\n",
    "    @property\n",
    "    def is_valid(self):\n",
    "        if self.tampered < 0:\n",
    "            return True\n",
    "        return False\n",
    "        "
   ]
  },
  {
   "cell_type": "code",
   "execution_count": 11,
   "metadata": {},
   "outputs": [],
   "source": [
    "chain = Chain()"
   ]
  },
  {
   "cell_type": "code",
   "execution_count": 12,
   "metadata": {},
   "outputs": [
    {
     "data": {
      "text/plain": [
       "[transactions: [Transaction(recipient='Alice', sender='Alice', amount=2.0, timestamp=1543083975.4887934)]\n",
       " \n",
       " previous hash: coinbase]"
      ]
     },
     "execution_count": 12,
     "metadata": {},
     "output_type": "execute_result"
    }
   ],
   "source": [
    "chain.blocks"
   ]
  },
  {
   "cell_type": "code",
   "execution_count": 13,
   "metadata": {},
   "outputs": [],
   "source": [
    "for _ in range(10):\n",
    "    block = Block()\n",
    "    for j in range(3):\n",
    "        block.append(Transaction(sender='Bob', recipient='Jon', amount=j))\n",
    "    chain.push(block)"
   ]
  },
  {
   "cell_type": "code",
   "execution_count": 14,
   "metadata": {},
   "outputs": [
    {
     "data": {
      "text/plain": [
       "True"
      ]
     },
     "execution_count": 14,
     "metadata": {},
     "output_type": "execute_result"
    }
   ],
   "source": [
    "chain.is_valid"
   ]
  },
  {
   "cell_type": "code",
   "execution_count": 15,
   "metadata": {},
   "outputs": [
    {
     "data": {
      "text/plain": [
       "Transaction(recipient='Alice', sender='Alice', amount=2.0, timestamp=1543083975.4887934)"
      ]
     },
     "execution_count": 15,
     "metadata": {},
     "output_type": "execute_result"
    }
   ],
   "source": [
    "borrowed = chain.blocks[0].transactions.pop()\n",
    "borrowed"
   ]
  },
  {
   "cell_type": "code",
   "execution_count": 16,
   "metadata": {},
   "outputs": [
    {
     "data": {
      "text/plain": [
       "False"
      ]
     },
     "execution_count": 16,
     "metadata": {},
     "output_type": "execute_result"
    }
   ],
   "source": [
    "chain.is_valid"
   ]
  },
  {
   "cell_type": "code",
   "execution_count": 17,
   "metadata": {},
   "outputs": [
    {
     "data": {
      "text/plain": [
       "0"
      ]
     },
     "execution_count": 17,
     "metadata": {},
     "output_type": "execute_result"
    }
   ],
   "source": [
    "chain.tampered"
   ]
  },
  {
   "cell_type": "markdown",
   "metadata": {},
   "source": [
    "Let's put the borrowed transaction back."
   ]
  },
  {
   "cell_type": "code",
   "execution_count": 18,
   "metadata": {},
   "outputs": [],
   "source": [
    "chain.blocks[0].transactions.append(borrowed)"
   ]
  },
  {
   "cell_type": "code",
   "execution_count": 19,
   "metadata": {},
   "outputs": [
    {
     "data": {
      "text/plain": [
       "True"
      ]
     },
     "execution_count": 19,
     "metadata": {},
     "output_type": "execute_result"
    }
   ],
   "source": [
    "chain.is_valid"
   ]
  },
  {
   "cell_type": "markdown",
   "metadata": {},
   "source": [
    "We can only mess with transactions in the last block."
   ]
  },
  {
   "cell_type": "code",
   "execution_count": 20,
   "metadata": {},
   "outputs": [],
   "source": [
    "chain.blocks[-1].append(Transaction(recipient='Alice', sender='Jon', amount=5))"
   ]
  },
  {
   "cell_type": "code",
   "execution_count": 21,
   "metadata": {},
   "outputs": [
    {
     "data": {
      "text/plain": [
       "True"
      ]
     },
     "execution_count": 21,
     "metadata": {},
     "output_type": "execute_result"
    }
   ],
   "source": [
    "chain.is_valid"
   ]
  },
  {
   "cell_type": "markdown",
   "metadata": {},
   "source": [
    "## Equal opportunity to verify"
   ]
  },
  {
   "cell_type": "markdown",
   "metadata": {},
   "source": [
    "Now, who should have the right to create blocks and add them to the chain? Everyone who wants to! We just need to make sure it's not monopolized by a single person. Somehow we need to give an equal-ish chance for everyone to verify previous blocks and add new ones. Here comes the elegant part. What if we allow the previous hash field to only start with `00`? Our block will have a special `nonce` field that can have anything that makes our block hash start with `00`. If we use a good hashing algorithm, there is no other way but to try different possibilities until we get what we need. This kind of help work should be rewarded. We'll allow that person to assign help units to herself out of nothing."
   ]
  },
  {
   "cell_type": "code",
   "execution_count": 22,
   "metadata": {},
   "outputs": [],
   "source": [
    "class Block:\n",
    "    transactions: list\n",
    "    previous_hash: str = 'coinbase'\n",
    "    nonce: str = 'blahblahblah'\n",
    "\n",
    "    def __init__(self):\n",
    "        self.transactions = []\n",
    "\n",
    "    def append(self, t: Transaction):\n",
    "        self.transactions.append(t)\n",
    "    \n",
    "    def __repr__(self):\n",
    "        return 'transactions: {}\\n\\nprevious hash: {}\\n\\nnonce: {}'.format(\n",
    "            self.transactions.__repr__(), self.previous_hash, self.nonce\n",
    "        )\n",
    "    \n",
    "    def hash(self):\n",
    "        return hashlib.sha256(str(self).encode()).hexdigest()\n",
    "        "
   ]
  },
  {
   "cell_type": "code",
   "execution_count": 23,
   "metadata": {},
   "outputs": [],
   "source": [
    "from uuid import uuid4\n",
    "\n",
    "def add_block_with_proof_of_work(chain: Chain, block: Block):\n",
    "    last_block = chain.blocks[-1]\n",
    "    for i in range(100000):\n",
    "        last_block.nonce = uuid4()\n",
    "        temp_hash = last_block.hash()\n",
    "        if temp_hash.startswith('00'):\n",
    "            block.previous_hash = temp_hash\n",
    "            chain.blocks.append(block)\n",
    "            print('Found hash {} after {} iterations'.format(temp_hash, i))\n",
    "            break\n",
    "    else:\n",
    "        print('After {} iterations, needed hash was not found.'.format(i))    "
   ]
  },
  {
   "cell_type": "code",
   "execution_count": 24,
   "metadata": {},
   "outputs": [],
   "source": [
    "chain = Chain()"
   ]
  },
  {
   "cell_type": "code",
   "execution_count": 25,
   "metadata": {},
   "outputs": [],
   "source": [
    "block = Block()\n",
    "for j in range(3):\n",
    "    block.append(Transaction(sender='Bob', recipient='Jon', amount=j))"
   ]
  },
  {
   "cell_type": "code",
   "execution_count": 26,
   "metadata": {},
   "outputs": [
    {
     "name": "stdout",
     "output_type": "stream",
     "text": [
      "Found hash 00226307c0a1fee86375b96cbea86f25525f73ce63a0d5f21da8307ff032e9c5 after 71 iterations\n"
     ]
    }
   ],
   "source": [
    "add_block_with_proof_of_work(chain, block)"
   ]
  },
  {
   "cell_type": "code",
   "execution_count": 27,
   "metadata": {},
   "outputs": [
    {
     "data": {
      "text/plain": [
       "[transactions: [Transaction(recipient='Alice', sender='Alice', amount=2.0, timestamp=1543083976.9717913)]\n",
       " \n",
       " previous hash: coinbase\n",
       " \n",
       " nonce: e1c47d73-00d7-48dd-8069-fc2a39e8ca41,\n",
       " transactions: [Transaction(recipient='Jon', sender='Bob', amount=0, timestamp=1543083977.0724168), Transaction(recipient='Jon', sender='Bob', amount=1, timestamp=1543083977.0724344), Transaction(recipient='Jon', sender='Bob', amount=2, timestamp=1543083977.0724432)]\n",
       " \n",
       " previous hash: 00226307c0a1fee86375b96cbea86f25525f73ce63a0d5f21da8307ff032e9c5\n",
       " \n",
       " nonce: blahblahblah]"
      ]
     },
     "execution_count": 27,
     "metadata": {},
     "output_type": "execute_result"
    }
   ],
   "source": [
    "chain.blocks"
   ]
  },
  {
   "cell_type": "code",
   "execution_count": 28,
   "metadata": {},
   "outputs": [
    {
     "data": {
      "text/plain": [
       "True"
      ]
     },
     "execution_count": 28,
     "metadata": {},
     "output_type": "execute_result"
    }
   ],
   "source": [
    "chain.is_valid"
   ]
  },
  {
   "cell_type": "markdown",
   "metadata": {},
   "source": [
    "The facinating part is that we can have any number of arbitrary rules. As long as each helper (a.k.a miner) validates previous work, the system is stable. Each helper gets a reward if her block becomes part of the chain and loses that reward if someone else decides it's wrong. Since it's guaranteed that no one can validate their own work, everyone has to abide by an accepted set of rules."
   ]
  },
  {
   "cell_type": "markdown",
   "metadata": {},
   "source": [
    "## Asymmetric encryption to the rescue"
   ]
  },
  {
   "cell_type": "markdown",
   "metadata": {},
   "source": [
    "There is one last major problem. Anyone can register a transaction from Alice (since she has a lot of help units) to Bob. It will be all valid but Alice might not even know she transferred her help units to Bob."
   ]
  },
  {
   "cell_type": "markdown",
   "metadata": {},
   "source": [
    "Sadly, Python doesn't have many encryption features in its standard library. Cryptography is a big field. There are lots of libs that can generate keys like PyCryptodome but we need something simple here. [ecdsa](https://github.com/warner/python-ecdsa) is the simplest to use for signature purposes. After `pip install ecdsa` we can import and use it."
   ]
  },
  {
   "cell_type": "code",
   "execution_count": 29,
   "metadata": {},
   "outputs": [
    {
     "data": {
      "text/plain": [
       "True"
      ]
     },
     "execution_count": 29,
     "metadata": {},
     "output_type": "execute_result"
    }
   ],
   "source": [
    "import ecdsa\n",
    "from base64 import b64decode, b64encode\n",
    "\n",
    "sk = ecdsa.SigningKey.generate(curve=ecdsa.SECP256k1)\n",
    "vk = sk.get_verifying_key()\n",
    "signature = sk.sign(vk.to_string())\n",
    "vk.verify(signature, vk.to_string())"
   ]
  },
  {
   "cell_type": "markdown",
   "metadata": {},
   "source": [
    "The idea looks simple but `sk` (Signature Key) and `vk` (Verifying Key) are objects so we can't just put them into a transaction."
   ]
  },
  {
   "cell_type": "code",
   "execution_count": 30,
   "metadata": {},
   "outputs": [
    {
     "data": {
      "text/plain": [
       "(<ecdsa.keys.SigningKey at 0x7fa7983fe080>,\n",
       " <ecdsa.keys.VerifyingKey at 0x7fa7983fe240>)"
      ]
     },
     "execution_count": 30,
     "metadata": {},
     "output_type": "execute_result"
    }
   ],
   "source": [
    "sk, vk"
   ]
  },
  {
   "cell_type": "markdown",
   "metadata": {},
   "source": [
    "There are helper methods but it still looks ugly."
   ]
  },
  {
   "cell_type": "code",
   "execution_count": 31,
   "metadata": {},
   "outputs": [
    {
     "data": {
      "text/plain": [
       "b'\\xa4g_\\xff\\xd67B\\x94Q\\xca\\x01\\x17\\xbfN\\xf8\\x8d\\x18t\\x0es\\x01\\x01\\xabe\\nU\\x83\\xb5\\xda\\x85\\x14>H*\\xc9\\\\a\\xce\\x9d\\xbcy\\xe8\\x111\\xdan>\\xff=-)\\xe3\\xe3\\xc4 \\xbc~\\x8d\\\\\\xebXH\\x00+'"
      ]
     },
     "execution_count": 31,
     "metadata": {},
     "output_type": "execute_result"
    }
   ],
   "source": [
    "vk.to_string()"
   ]
  },
  {
   "cell_type": "code",
   "execution_count": 32,
   "metadata": {},
   "outputs": [
    {
     "data": {
      "text/plain": [
       "b'\\x80\\x8a\\x9e\\xcb\\x14\\x7f\\x1bW\\x7f\\xe65\\xbb\\x11a_O\\x95\\\\-Il\\x11\\xbd\\xa9\\xf2\\xfd\\xea\\x86\\x82\\x01;\\xb17\\xba>sj\\xb7\\xea)^Y\\xee\\x8c\\xb8\\x88\\x83F?\\xad<q\\\\IW\\xcb\\xce\\x1d\\x15v\\x0c\\x10EB'"
      ]
     },
     "execution_count": 32,
     "metadata": {},
     "output_type": "execute_result"
    }
   ],
   "source": [
    "signature"
   ]
  },
  {
   "cell_type": "markdown",
   "metadata": {},
   "source": [
    "Let's encode them."
   ]
  },
  {
   "cell_type": "code",
   "execution_count": 33,
   "metadata": {},
   "outputs": [],
   "source": [
    "from base64 import b64encode, b64decode"
   ]
  },
  {
   "cell_type": "code",
   "execution_count": 34,
   "metadata": {},
   "outputs": [
    {
     "name": "stdout",
     "output_type": "stream",
     "text": [
      "public key: b'pGdf/9Y3QpRRygEXv074jRh0DnMBAatlClWDtdqFFD5IKslcYc6dvHnoETHabj7/PS0p4+PEILx+jVzrWEgAKw==' \n",
      "signature:  b'gIqeyxR/G1d/5jW7EWFfT5VcLUlsEb2p8v3qhoIBO7E3uj5zarfqKV5Z7oy4iINGP608cVxJV8vOHRV2DBBFQg=='\n"
     ]
    }
   ],
   "source": [
    "public_key = b64encode(vk.to_string())\n",
    "sign = b64encode(signature)\n",
    "\n",
    "print('public key: {} \\nsignature:  {}'.format(public_key, sign))"
   ]
  },
  {
   "cell_type": "markdown",
   "metadata": {},
   "source": [
    "That looks a little better. Are there any other possibilities?"
   ]
  },
  {
   "cell_type": "code",
   "execution_count": 35,
   "metadata": {},
   "outputs": [],
   "source": [
    "from binascii import hexlify, unhexlify"
   ]
  },
  {
   "cell_type": "code",
   "execution_count": 36,
   "metadata": {},
   "outputs": [
    {
     "name": "stdout",
     "output_type": "stream",
     "text": [
      "public key: b'a4675fffd637429451ca0117bf4ef88d18740e730101ab650a5583b5da85143e482ac95c61ce9dbc79e81131da6e3eff3d2d29e3e3c420bc7e8d5ceb5848002b' \n",
      "signature:  b'808a9ecb147f1b577fe635bb11615f4f955c2d496c11bda9f2fdea8682013bb137ba3e736ab7ea295e59ee8cb88883463fad3c715c4957cbce1d15760c104542'\n"
     ]
    }
   ],
   "source": [
    "public_key = hexlify(vk.to_string())\n",
    "sign = hexlify(signature)\n",
    "\n",
    "print('public key: {} \\nsignature:  {}'.format(public_key, sign))"
   ]
  },
  {
   "cell_type": "markdown",
   "metadata": {},
   "source": [
    "It looks prettier but longer. I'll stick with the shorter version here. I always wondered why wallet addresses look so different for different coins. I guess the answer lies in encoding preferences. Onward to our signature field!"
   ]
  },
  {
   "cell_type": "code",
   "execution_count": 37,
   "metadata": {},
   "outputs": [],
   "source": [
    "# Our new transaction data\n",
    "@dataclass\n",
    "class Transaction:\n",
    "    recipient: bytes\n",
    "    sender: bytes\n",
    "    amount: float\n",
    "    signature: bytes = b'' # New signature filed\n",
    "    timestamp: float = field(default_factory=time)"
   ]
  },
  {
   "cell_type": "code",
   "execution_count": 38,
   "metadata": {},
   "outputs": [],
   "source": [
    "def sign(public: bytes, private: bytes) -> bytes:\n",
    "    pk = b64decode(private)\n",
    "    signing_key = ecdsa.SigningKey.from_string(pk, curve=ecdsa.SECP256k1)\n",
    "    signature = b64encode(signing_key.sign(public))\n",
    "    return signature\n",
    "\n",
    "\n",
    "def is_valid(transaction: Transaction) -> bool:\n",
    "    pub_key = ecdsa.VerifyingKey.from_string(b64decode(transaction.sender))\n",
    "    return pub_key.verify(b64decode(transaction.signature), transaction.sender)\n",
    "\n",
    "\n",
    "class Person:\n",
    "    public: bytes\n",
    "    private: bytes\n",
    "\n",
    "    def __init__(self):\n",
    "        sk = ecdsa.SigningKey.generate(curve=ecdsa.SECP256k1)\n",
    "        vk = sk.get_verifying_key()\n",
    "        self.public = b64encode(vk.to_string())\n",
    "        self.private = b64encode(sk.to_string())\n",
    "\n",
    "    def __repr__(self):\n",
    "        return str(self.public)\n",
    "\n",
    "    def send_help(self, to:bytes, amount: float) -> Transaction:\n",
    "        return Transaction(\n",
    "            recipient=to,\n",
    "            sender=self.public,\n",
    "            signature=sign(self.public, self.private),\n",
    "            amount=amount\n",
    "        )"
   ]
  },
  {
   "cell_type": "markdown",
   "metadata": {},
   "source": [
    "Now if Alice wants to send help to Bob, first she and Bob have to generate key pairs."
   ]
  },
  {
   "cell_type": "code",
   "execution_count": 39,
   "metadata": {},
   "outputs": [],
   "source": [
    "alice = Person()\n",
    "bob = Person()\n",
    "jon = Person()"
   ]
  },
  {
   "cell_type": "code",
   "execution_count": 40,
   "metadata": {},
   "outputs": [
    {
     "data": {
      "text/plain": [
       "Transaction(recipient=b'5f8ey9/bdKf//b7962U/SzHgyK/Uv2jXiH/3/AnnS68gZeMn2+fMvz/c/Ml/2N3RSlMUkC+PWSBcb0jCSm8BFQ==', sender=b'3AZNBuU+bGV5U59b1VRV/O86+J8xwR2fTswiRTuFzwIzC3dibhTfVPhHDq1Dk0Pb7pVmjH3Z2Ys/f5oYV4NJng==', amount=2.0, signature=b'ddT+0VAIEiyG4GZOS4yf+S6GE7aXoIK+JZk6zG5vw1CB4fENzh4jW0POAPLT5hKfnE50mK2TRCd320yFByFGxg==', timestamp=1543083979.0230663)"
      ]
     },
     "execution_count": 40,
     "metadata": {},
     "output_type": "execute_result"
    }
   ],
   "source": [
    "alice.send_help(to=bob.public, amount=2.0)"
   ]
  },
  {
   "cell_type": "code",
   "execution_count": 41,
   "metadata": {},
   "outputs": [],
   "source": [
    "chain = Chain()"
   ]
  },
  {
   "cell_type": "code",
   "execution_count": 42,
   "metadata": {},
   "outputs": [],
   "source": [
    "block = Block()"
   ]
  },
  {
   "cell_type": "code",
   "execution_count": 43,
   "metadata": {},
   "outputs": [],
   "source": [
    "block.append(alice.send_help(to=bob.public, amount=10.0))\n",
    "block.append(bob.send_help(to=jon.public, amount=5.0))\n",
    "block.append(jon.send_help(to=alice.public, amount=2.5))"
   ]
  },
  {
   "cell_type": "code",
   "execution_count": 44,
   "metadata": {},
   "outputs": [
    {
     "name": "stdout",
     "output_type": "stream",
     "text": [
      "Found hash 00c07f76ad355130f72b6bd738e5f3fe1ae7a4035f8dc430ae081fb8456e8748 after 112 iterations\n"
     ]
    }
   ],
   "source": [
    "add_block_with_proof_of_work(chain, block)"
   ]
  },
  {
   "cell_type": "code",
   "execution_count": 45,
   "metadata": {},
   "outputs": [
    {
     "data": {
      "text/plain": [
       "[transactions: [Transaction(recipient='Alice', sender='Alice', amount=2.0, signature=b'', timestamp=1543083979.051718)]\n",
       " \n",
       " previous hash: coinbase\n",
       " \n",
       " nonce: 14eafeac-0faf-4e9e-8ba5-97010f7e1901,\n",
       " transactions: [Transaction(recipient=b'5f8ey9/bdKf//b7962U/SzHgyK/Uv2jXiH/3/AnnS68gZeMn2+fMvz/c/Ml/2N3RSlMUkC+PWSBcb0jCSm8BFQ==', sender=b'3AZNBuU+bGV5U59b1VRV/O86+J8xwR2fTswiRTuFzwIzC3dibhTfVPhHDq1Dk0Pb7pVmjH3Z2Ys/f5oYV4NJng==', amount=10.0, signature=b'aKAzMzqJv4r3qCCNUtsvQ79xRRos4UYL7t8UGk0esjMMbsuJ+ivlAcTElJggXHqfV0XWrY9L9NgLB0XrOOIcPg==', timestamp=1543083979.3870409), Transaction(recipient=b'/AzV9soGtNgdb6CMdZBapbfIjpL1co46ih3ijDNlNVp98MCtH5pdZszrGr8afcg+/pg1muLz63RnES2D0L3K3A==', sender=b'5f8ey9/bdKf//b7962U/SzHgyK/Uv2jXiH/3/AnnS68gZeMn2+fMvz/c/Ml/2N3RSlMUkC+PWSBcb0jCSm8BFQ==', amount=5.0, signature=b'gHzSqG5iahDh7Bn9kQr/De3S7i5u+i8kp1NVTLRDH6BwNBbth7hOboh33bdyqBNDh87iWRH/CiaWuzZbcma0vg==', timestamp=1543083979.4903493), Transaction(recipient=b'3AZNBuU+bGV5U59b1VRV/O86+J8xwR2fTswiRTuFzwIzC3dibhTfVPhHDq1Dk0Pb7pVmjH3Z2Ys/f5oYV4NJng==', sender=b'/AzV9soGtNgdb6CMdZBapbfIjpL1co46ih3ijDNlNVp98MCtH5pdZszrGr8afcg+/pg1muLz63RnES2D0L3K3A==', amount=2.5, signature=b'LpvfVp+PaBPQxo8uNTVuJ0+q4U1E2BqdL9unNkBH02uqvMlbDo/9GWIo/i1HzmKdiB1WHGZjrB98CS/M7kWPRw==', timestamp=1543083979.589746)]\n",
       " \n",
       " previous hash: 00c07f76ad355130f72b6bd738e5f3fe1ae7a4035f8dc430ae081fb8456e8748\n",
       " \n",
       " nonce: blahblahblah]"
      ]
     },
     "execution_count": 45,
     "metadata": {},
     "output_type": "execute_result"
    }
   ],
   "source": [
    "chain.blocks"
   ]
  },
  {
   "cell_type": "code",
   "execution_count": 46,
   "metadata": {},
   "outputs": [],
   "source": [
    "block = Block()"
   ]
  },
  {
   "cell_type": "code",
   "execution_count": 47,
   "metadata": {},
   "outputs": [],
   "source": [
    "block.append(alice.send_help(to=bob.public, amount=2.5))\n",
    "block.append(bob.send_help(to=jon.public, amount=5.0))\n",
    "block.append(jon.send_help(to=alice.public, amount=10.0))"
   ]
  },
  {
   "cell_type": "code",
   "execution_count": 48,
   "metadata": {},
   "outputs": [
    {
     "name": "stdout",
     "output_type": "stream",
     "text": [
      "Found hash 00ad23d6c3d4a31a968e064eb84c96fcbf0e47329acf817cb99e58fb587fcf4b after 250 iterations\n"
     ]
    }
   ],
   "source": [
    "add_block_with_proof_of_work(chain, block)"
   ]
  },
  {
   "cell_type": "code",
   "execution_count": 49,
   "metadata": {},
   "outputs": [
    {
     "data": {
      "text/plain": [
       "[transactions: [Transaction(recipient='Alice', sender='Alice', amount=2.0, signature=b'', timestamp=1543083979.051718)]\n",
       " \n",
       " previous hash: coinbase\n",
       " \n",
       " nonce: 14eafeac-0faf-4e9e-8ba5-97010f7e1901,\n",
       " transactions: [Transaction(recipient=b'5f8ey9/bdKf//b7962U/SzHgyK/Uv2jXiH/3/AnnS68gZeMn2+fMvz/c/Ml/2N3RSlMUkC+PWSBcb0jCSm8BFQ==', sender=b'3AZNBuU+bGV5U59b1VRV/O86+J8xwR2fTswiRTuFzwIzC3dibhTfVPhHDq1Dk0Pb7pVmjH3Z2Ys/f5oYV4NJng==', amount=10.0, signature=b'aKAzMzqJv4r3qCCNUtsvQ79xRRos4UYL7t8UGk0esjMMbsuJ+ivlAcTElJggXHqfV0XWrY9L9NgLB0XrOOIcPg==', timestamp=1543083979.3870409), Transaction(recipient=b'/AzV9soGtNgdb6CMdZBapbfIjpL1co46ih3ijDNlNVp98MCtH5pdZszrGr8afcg+/pg1muLz63RnES2D0L3K3A==', sender=b'5f8ey9/bdKf//b7962U/SzHgyK/Uv2jXiH/3/AnnS68gZeMn2+fMvz/c/Ml/2N3RSlMUkC+PWSBcb0jCSm8BFQ==', amount=5.0, signature=b'gHzSqG5iahDh7Bn9kQr/De3S7i5u+i8kp1NVTLRDH6BwNBbth7hOboh33bdyqBNDh87iWRH/CiaWuzZbcma0vg==', timestamp=1543083979.4903493), Transaction(recipient=b'3AZNBuU+bGV5U59b1VRV/O86+J8xwR2fTswiRTuFzwIzC3dibhTfVPhHDq1Dk0Pb7pVmjH3Z2Ys/f5oYV4NJng==', sender=b'/AzV9soGtNgdb6CMdZBapbfIjpL1co46ih3ijDNlNVp98MCtH5pdZszrGr8afcg+/pg1muLz63RnES2D0L3K3A==', amount=2.5, signature=b'LpvfVp+PaBPQxo8uNTVuJ0+q4U1E2BqdL9unNkBH02uqvMlbDo/9GWIo/i1HzmKdiB1WHGZjrB98CS/M7kWPRw==', timestamp=1543083979.589746)]\n",
       " \n",
       " previous hash: 00c07f76ad355130f72b6bd738e5f3fe1ae7a4035f8dc430ae081fb8456e8748\n",
       " \n",
       " nonce: 04ea80c3-214f-4e96-84f2-bd4ffc79f936,\n",
       " transactions: [Transaction(recipient=b'5f8ey9/bdKf//b7962U/SzHgyK/Uv2jXiH/3/AnnS68gZeMn2+fMvz/c/Ml/2N3RSlMUkC+PWSBcb0jCSm8BFQ==', sender=b'3AZNBuU+bGV5U59b1VRV/O86+J8xwR2fTswiRTuFzwIzC3dibhTfVPhHDq1Dk0Pb7pVmjH3Z2Ys/f5oYV4NJng==', amount=2.5, signature=b'GYCdPpU1ryGlrd+RJ+S/fCxMqoZcmOyM30D0XEU6R1uoQeJn0G1fnlMlFgSDQN8gwRw8rHxhNc068K4BjYSU2A==', timestamp=1543083980.0568962), Transaction(recipient=b'/AzV9soGtNgdb6CMdZBapbfIjpL1co46ih3ijDNlNVp98MCtH5pdZszrGr8afcg+/pg1muLz63RnES2D0L3K3A==', sender=b'5f8ey9/bdKf//b7962U/SzHgyK/Uv2jXiH/3/AnnS68gZeMn2+fMvz/c/Ml/2N3RSlMUkC+PWSBcb0jCSm8BFQ==', amount=5.0, signature=b'vbAah9ZFze6lwRK/oGFYp0Xvs+iTX1ZWieYupvaAGg1BmEo5ND8Egh55V7HMaa2oAetpscdrA8f90VRLVL4DTA==', timestamp=1543083980.1576521), Transaction(recipient=b'3AZNBuU+bGV5U59b1VRV/O86+J8xwR2fTswiRTuFzwIzC3dibhTfVPhHDq1Dk0Pb7pVmjH3Z2Ys/f5oYV4NJng==', sender=b'/AzV9soGtNgdb6CMdZBapbfIjpL1co46ih3ijDNlNVp98MCtH5pdZszrGr8afcg+/pg1muLz63RnES2D0L3K3A==', amount=10.0, signature=b'iY/hCbPkfnGnQ450Au8qpR6pKUSKcsYxTfQKkpEBrYUvAypMNhDPx4Z3UjVjI8xg/akq4jiLd6raSBBnE5XQ3A==', timestamp=1543083980.2589853)]\n",
       " \n",
       " previous hash: 00ad23d6c3d4a31a968e064eb84c96fcbf0e47329acf817cb99e58fb587fcf4b\n",
       " \n",
       " nonce: blahblahblah]"
      ]
     },
     "execution_count": 49,
     "metadata": {},
     "output_type": "execute_result"
    }
   ],
   "source": [
    "chain.blocks"
   ]
  },
  {
   "cell_type": "markdown",
   "metadata": {},
   "source": [
    "Okay, we sufficiently ridiculous-ified. However, it looks so scary only because of public keys and cryptographic signature. If we ignore those strings, things are actually very simple: \n",
    "\n",
    "1. There are transactions with who gave help to whom and a signature so there is a way to validate the transaction. \n",
    "2. There is a `nonce` field that we use to calculate hash for next block. \n",
    "3. There is a prevous hash field.\n",
    "\n",
    "You probably noticed that anyone can send any amount of help units. How do we make sure that help units appear only from mining? We don't. We just make a rule that people can spend only as much as they have and only miners can assign value to themselves. As long as miners verify work of others, they will follow any kind of verifiable rules. In order to make sure a person doesn't spend more than she has, miners just need to sum up all the transactions involving that public address. A rule that transactions are valid only in rainy weather will not work because our chain doesn't contain this information."
   ]
  },
  {
   "cell_type": "markdown",
   "metadata": {},
   "source": [
    "## Is this all there is to blockchain and cryptocoins?"
   ]
  },
  {
   "cell_type": "markdown",
   "metadata": {},
   "source": [
    "Yes, it covers main concepts. And no, I wouldn't trust more than a dollar to this particular one (even if we don't take into account lots of small missing parts). When I started this quest, I suspected that it's possible to uncover details that I wouldn't find just by reading articles about blockchains. The digest of what I learned while writing this simple blockchain is in [5 Things I learned from Implementing a Simple Blockchain](https://steemit.com/learning/@codeomatic/5-things-i-learned-from-implementing-a-simple-blockchain) (https://github.com/nikolskiy/ecf/blob/master/articles/chain-of-thought.ipynb)."
   ]
  }
 ],
 "metadata": {
  "kernelspec": {
   "display_name": "Python 3",
   "language": "python",
   "name": "python3"
  },
  "language_info": {
   "codemirror_mode": {
    "name": "ipython",
    "version": 3
   },
   "file_extension": ".py",
   "mimetype": "text/x-python",
   "name": "python",
   "nbconvert_exporter": "python",
   "pygments_lexer": "ipython3",
   "version": "3.7.0"
  }
 },
 "nbformat": 4,
 "nbformat_minor": 2
}
