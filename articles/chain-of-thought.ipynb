{
 "cells": [
  {
   "cell_type": "markdown",
   "metadata": {},
   "source": [
    "There is a group of about 300 people who want to help each other. The problem is that a single person can meaningfully keep track of 150 people but all 300 want to cooperate and do it fairly to each other. How can they do that?\n",
    "\n",
    "It's sad that you will not find the problem in any school book. If you did, the initial answer would be simple. Why don't they write down who helped whom and how much. For convinience they even can use 1 help unit called hlp."
   ]
  },
  {
   "cell_type": "code",
   "execution_count": 1,
   "metadata": {},
   "outputs": [],
   "source": [
    "from dataclasses import dataclass, field\n",
    "from time import time\n",
    "\n",
    "@dataclass\n",
    "class Transaction:\n",
    "    recipient: str\n",
    "    sender: str\n",
    "    amount: float\n",
    "    timestamp: float = field(default_factory=time)\n",
    "\n",
    "block = []"
   ]
  },
  {
   "cell_type": "markdown",
   "metadata": {},
   "source": [
    "Now we can just put them on the chain."
   ]
  },
  {
   "cell_type": "code",
   "execution_count": 2,
   "metadata": {},
   "outputs": [],
   "source": [
    "block.append(Transaction(\n",
    "    sender='Alise', recipient='Bob', amount=2.0\n",
    "))\n",
    "block.append(Transaction(\n",
    "    sender='Bob', recipient='Jon', amount=4.5\n",
    "))"
   ]
  },
  {
   "cell_type": "code",
   "execution_count": 3,
   "metadata": {},
   "outputs": [
    {
     "data": {
      "text/plain": [
       "[Transaction(recipient='Bob', sender='Alise', amount=2.0, timestamp=1542290722.4895535),\n",
       " Transaction(recipient='Jon', sender='Bob', amount=4.5, timestamp=1542290722.4896066)]"
      ]
     },
     "execution_count": 3,
     "metadata": {},
     "output_type": "execute_result"
    }
   ],
   "source": [
    "block"
   ]
  },
  {
   "cell_type": "markdown",
   "metadata": {},
   "source": [
    "This covers direct person to person cooperation. Everyone is happy. If someone tries to cooperate inderectly, things fall apart. Since anyone can update the chain, transactions can be removed. If people try to exchange units of help there is an insentive to mess with the transaction list. Hm, how can we fix it? Let's chain those blocks so transactions can only be added."
   ]
  },
  {
   "cell_type": "code",
   "execution_count": 4,
   "metadata": {},
   "outputs": [],
   "source": [
    "import hashlib\n",
    "\n",
    "class Block:\n",
    "    transactions: list\n",
    "    previous_hash: str = 'coinbase'\n",
    "\n",
    "    def __init__(self):\n",
    "        self.transactions = []\n",
    "\n",
    "    def append(self, t: Transaction):\n",
    "        self.transactions.append(t)\n",
    "    \n",
    "    def __repr__(self):\n",
    "        return 'transactions: {}\\n\\nprevious hash: {}'.format(self.transactions.__repr__(), self.previous_hash)\n",
    "    \n",
    "    def hash(self):\n",
    "        return hashlib.sha256(str(self).encode()).hexdigest()\n",
    "        "
   ]
  },
  {
   "cell_type": "code",
   "execution_count": 5,
   "metadata": {},
   "outputs": [],
   "source": [
    "block = Block()\n",
    "block.append(Transaction(\n",
    "    sender='Alise', recipient='Bob', amount=2.0\n",
    "))\n",
    "block.append(Transaction(\n",
    "    sender='Bob', recipient='Jon', amount=4.5\n",
    "))"
   ]
  },
  {
   "cell_type": "code",
   "execution_count": 6,
   "metadata": {},
   "outputs": [
    {
     "data": {
      "text/plain": [
       "transactions: [Transaction(recipient='Bob', sender='Alise', amount=2.0, timestamp=1542290724.8977764), Transaction(recipient='Jon', sender='Bob', amount=4.5, timestamp=1542290724.8978179)]\n",
       "\n",
       "previous hash: coinbase"
      ]
     },
     "execution_count": 6,
     "metadata": {},
     "output_type": "execute_result"
    }
   ],
   "source": [
    "block"
   ]
  },
  {
   "cell_type": "code",
   "execution_count": 7,
   "metadata": {},
   "outputs": [
    {
     "data": {
      "text/plain": [
       "'422c5105a2f1b9cc90d3ffe2d2393340d9ecdd1e0e216fe9401129d0b25e9988'"
      ]
     },
     "execution_count": 7,
     "metadata": {},
     "output_type": "execute_result"
    }
   ],
   "source": [
    "block.hash()"
   ]
  },
  {
   "cell_type": "markdown",
   "metadata": {},
   "source": [
    "Hey, look at that! We got short and unique (for our purpuses) representation of our block and all the transactions in it."
   ]
  },
  {
   "cell_type": "code",
   "execution_count": 8,
   "metadata": {},
   "outputs": [
    {
     "data": {
      "text/plain": [
       "'422c5105a2f1b9cc90d3ffe2d2393340d9ecdd1e0e216fe9401129d0b25e9988'"
      ]
     },
     "execution_count": 8,
     "metadata": {},
     "output_type": "execute_result"
    }
   ],
   "source": [
    "block.hash()"
   ]
  },
  {
   "cell_type": "code",
   "execution_count": 9,
   "metadata": {},
   "outputs": [],
   "source": [
    "block.append(Transaction(\n",
    "    sender='Jon', recipient='Bob', amount=1.0\n",
    "))"
   ]
  },
  {
   "cell_type": "code",
   "execution_count": 10,
   "metadata": {},
   "outputs": [
    {
     "data": {
      "text/plain": [
       "'539797596c7c36b4b1445b5ae2e0791bcda1135a362ef6991c7092de480a2004'"
      ]
     },
     "execution_count": 10,
     "metadata": {},
     "output_type": "execute_result"
    }
   ],
   "source": [
    "block.hash()"
   ]
  },
  {
   "cell_type": "markdown",
   "metadata": {},
   "source": [
    "We need to represent a block in something hashable. We don't need anything fancy at this point so `__repr__` will give us what we need. Now let's add smarter chain class."
   ]
  },
  {
   "cell_type": "code",
   "execution_count": 11,
   "metadata": {},
   "outputs": [],
   "source": [
    "import itertools\n",
    "\n",
    "\n",
    "class Chain:\n",
    "    blocks: list\n",
    "\n",
    "    def __init__(self):\n",
    "        \"\"\"We need initial block\"\"\"\n",
    "        block = Block()\n",
    "        block.append(Transaction(\n",
    "            sender='Alise', recipient='Alise', amount=2.0\n",
    "        ))\n",
    "        self.blocks = [block]\n",
    "\n",
    "    def push(self, block: Block):\n",
    "        block.previous_hash = self.blocks[-1].hash()\n",
    "        self.blocks.append(block)\n",
    "\n",
    "    @property\n",
    "    def tempared(self):\n",
    "        \"\"\"\n",
    "        It gives you possition of invalid block according to it's naighbour to the right.\n",
    "        If chain looks good it returns 0.\n",
    "        \"\"\"\n",
    "        a, b = itertools.tee(self.blocks)\n",
    "        next(b, None)\n",
    "        for position, pair in enumerate(zip(a, b)):\n",
    "            if pair[0].hash() != pair[1].previous_hash:\n",
    "                return position\n",
    "        return -1\n",
    "\n",
    "    @property\n",
    "    def is_valid(self):\n",
    "        if self.tempared < 0:\n",
    "            return True\n",
    "        return False\n",
    "        "
   ]
  },
  {
   "cell_type": "code",
   "execution_count": 12,
   "metadata": {},
   "outputs": [],
   "source": [
    "chain = Chain()"
   ]
  },
  {
   "cell_type": "code",
   "execution_count": 13,
   "metadata": {},
   "outputs": [
    {
     "data": {
      "text/plain": [
       "[transactions: [Transaction(recipient='Alise', sender='Alise', amount=2.0, timestamp=1542290728.6414185)]\n",
       " \n",
       " previous hash: coinbase]"
      ]
     },
     "execution_count": 13,
     "metadata": {},
     "output_type": "execute_result"
    }
   ],
   "source": [
    "chain.blocks"
   ]
  },
  {
   "cell_type": "code",
   "execution_count": 14,
   "metadata": {},
   "outputs": [],
   "source": [
    "for _ in range(10):\n",
    "    block = Block()\n",
    "    for j in range(3):\n",
    "        block.append(Transaction(sender='Bob', recipient='Jon', amount=j))\n",
    "    chain.push(block)"
   ]
  },
  {
   "cell_type": "code",
   "execution_count": 15,
   "metadata": {},
   "outputs": [
    {
     "data": {
      "text/plain": [
       "True"
      ]
     },
     "execution_count": 15,
     "metadata": {},
     "output_type": "execute_result"
    }
   ],
   "source": [
    "chain.is_valid"
   ]
  },
  {
   "cell_type": "code",
   "execution_count": 16,
   "metadata": {},
   "outputs": [
    {
     "data": {
      "text/plain": [
       "Transaction(recipient='Alise', sender='Alise', amount=2.0, timestamp=1542290728.6414185)"
      ]
     },
     "execution_count": 16,
     "metadata": {},
     "output_type": "execute_result"
    }
   ],
   "source": [
    "borrowed = chain.blocks[0].transactions.pop()\n",
    "borrowed"
   ]
  },
  {
   "cell_type": "code",
   "execution_count": 17,
   "metadata": {},
   "outputs": [
    {
     "data": {
      "text/plain": [
       "False"
      ]
     },
     "execution_count": 17,
     "metadata": {},
     "output_type": "execute_result"
    }
   ],
   "source": [
    "chain.is_valid"
   ]
  },
  {
   "cell_type": "code",
   "execution_count": 18,
   "metadata": {},
   "outputs": [
    {
     "data": {
      "text/plain": [
       "0"
      ]
     },
     "execution_count": 18,
     "metadata": {},
     "output_type": "execute_result"
    }
   ],
   "source": [
    "chain.tempared"
   ]
  },
  {
   "cell_type": "markdown",
   "metadata": {},
   "source": [
    "Let's put borrowed transaction back."
   ]
  },
  {
   "cell_type": "code",
   "execution_count": 19,
   "metadata": {},
   "outputs": [],
   "source": [
    "chain.blocks[0].transactions.append(borrowed)"
   ]
  },
  {
   "cell_type": "code",
   "execution_count": 20,
   "metadata": {},
   "outputs": [
    {
     "data": {
      "text/plain": [
       "True"
      ]
     },
     "execution_count": 20,
     "metadata": {},
     "output_type": "execute_result"
    }
   ],
   "source": [
    "chain.is_valid"
   ]
  },
  {
   "cell_type": "markdown",
   "metadata": {},
   "source": [
    "We can only mess with transactions in the last block."
   ]
  },
  {
   "cell_type": "code",
   "execution_count": 21,
   "metadata": {},
   "outputs": [],
   "source": [
    "chain.blocks[-1].append(Transaction(recipient='Alise', sender='Jon', amount=5))"
   ]
  },
  {
   "cell_type": "code",
   "execution_count": 22,
   "metadata": {},
   "outputs": [
    {
     "data": {
      "text/plain": [
       "True"
      ]
     },
     "execution_count": 22,
     "metadata": {},
     "output_type": "execute_result"
    }
   ],
   "source": [
    "chain.is_valid"
   ]
  },
  {
   "cell_type": "markdown",
   "metadata": {},
   "source": [
    "Now who should have a right to create blocks and add them to the chain? Everyone who wants to do it! We just need to make sure it's not monopolized by a single person. Somehow we need to give equal-ish chance for everyone to verify previous blocks and add newones. Here comes the elegant part. What if we allow previous hash to only start with `00`. Our block will have a special `nonce` field that can have anything that makes our block hash to start with `00`. If we use good hashing algorithm there is no other way but to try different possibilities untill we get what we need. This kind help work should be rewarded. We'll allow that person to assign help units to herself out of nothing."
   ]
  },
  {
   "cell_type": "code",
   "execution_count": 23,
   "metadata": {},
   "outputs": [],
   "source": [
    "class Block:\n",
    "    transactions: list\n",
    "    previous_hash: str = 'coinbase'\n",
    "    nonce: str = 'blalba'\n",
    "\n",
    "    def __init__(self):\n",
    "        self.transactions = []\n",
    "\n",
    "    def append(self, t: Transaction):\n",
    "        self.transactions.append(t)\n",
    "    \n",
    "    def __repr__(self):\n",
    "        return 'transactions: {}\\n\\nprevious hash: {}\\n\\nnonce: {}'.format(\n",
    "            self.transactions.__repr__(), self.previous_hash, self.nonce\n",
    "        )\n",
    "    \n",
    "    def hash(self):\n",
    "        return hashlib.sha256(str(self).encode()).hexdigest()\n",
    "        "
   ]
  },
  {
   "cell_type": "code",
   "execution_count": 24,
   "metadata": {},
   "outputs": [],
   "source": [
    "from uuid import uuid4\n",
    "\n",
    "def add_block_with_proof_of_work(chain: Chain, block: Block):\n",
    "    last_block = chain.blocks[-1]\n",
    "    for i in range(100000):\n",
    "        last_block.nonce = uuid4()\n",
    "        temp_hash = last_block.hash()\n",
    "        if temp_hash.startswith('00'):\n",
    "            block.previous_hash = temp_hash\n",
    "            chain.blocks.append(block)\n",
    "            print('Found hash {} after {} iterations'.format(temp_hash, i))\n",
    "            break\n",
    "    else:\n",
    "        print('After {} iterations needed hash was not found.'.format(i))    "
   ]
  },
  {
   "cell_type": "code",
   "execution_count": 25,
   "metadata": {},
   "outputs": [],
   "source": [
    "chain = Chain()"
   ]
  },
  {
   "cell_type": "code",
   "execution_count": 26,
   "metadata": {},
   "outputs": [],
   "source": [
    "block = Block()\n",
    "for j in range(3):\n",
    "    block.append(Transaction(sender='Bob', recipient='Jon', amount=j))"
   ]
  },
  {
   "cell_type": "code",
   "execution_count": 27,
   "metadata": {},
   "outputs": [
    {
     "name": "stdout",
     "output_type": "stream",
     "text": [
      "Found hash 006231bc37272c451729431e823686e10c01200724b7bff33e8bc5975dfe4d82 after 39 iterations\n"
     ]
    }
   ],
   "source": [
    "add_block_with_proof_of_work(chain, block)"
   ]
  },
  {
   "cell_type": "code",
   "execution_count": 28,
   "metadata": {},
   "outputs": [
    {
     "data": {
      "text/plain": [
       "[transactions: [Transaction(recipient='Alise', sender='Alise', amount=2.0, timestamp=1542290733.8655944)]\n",
       " \n",
       " previous hash: coinbase\n",
       " \n",
       " nonce: e70c449b-90f7-465c-8ba8-eff8fe7a3ec4,\n",
       " transactions: [Transaction(recipient='Jon', sender='Bob', amount=0, timestamp=1542290734.2445638), Transaction(recipient='Jon', sender='Bob', amount=1, timestamp=1542290734.2445676), Transaction(recipient='Jon', sender='Bob', amount=2, timestamp=1542290734.2445695)]\n",
       " \n",
       " previous hash: 006231bc37272c451729431e823686e10c01200724b7bff33e8bc5975dfe4d82\n",
       " \n",
       " nonce: blalba]"
      ]
     },
     "execution_count": 28,
     "metadata": {},
     "output_type": "execute_result"
    }
   ],
   "source": [
    "chain.blocks"
   ]
  },
  {
   "cell_type": "code",
   "execution_count": 29,
   "metadata": {},
   "outputs": [
    {
     "data": {
      "text/plain": [
       "True"
      ]
     },
     "execution_count": 29,
     "metadata": {},
     "output_type": "execute_result"
    }
   ],
   "source": [
    "chain.is_valid"
   ]
  },
  {
   "cell_type": "markdown",
   "metadata": {},
   "source": [
    "Facinating part is that we can have any number of arbitrary rulles. As long as each helper (a.k.a miner) validates prevous work the system works. Each helper gets reward if her block becomes part of the chain and looses that reward if someone else decides it's wrong. Since no one has a guarantee to validate their own work everyone has to abide by acepted set of rules."
   ]
  },
  {
   "cell_type": "markdown",
   "metadata": {},
   "source": [
    "There is one last major problem. I can just register a transaction from Alise (since she has a lot of help units) to Bob. It will be all valid but Alise might not even know she transfared her help units to Bob."
   ]
  },
  {
   "cell_type": "markdown",
   "metadata": {},
   "source": [
    "### Asymetric encryption to the rescue"
   ]
  },
  {
   "cell_type": "markdown",
   "metadata": {},
   "source": [
    "Sadly python doesn't have many encryption features in its standard library. Cryptography is a big field. There are lot's of libs that can generate keys like PyCryptodome but we need something simple here. [ecdsa](https://github.com/warner/python-ecdsa) is the simplest to use for signature purpuses. After `pip install ecdsa` we can import an use it."
   ]
  },
  {
   "cell_type": "code",
   "execution_count": 30,
   "metadata": {},
   "outputs": [
    {
     "data": {
      "text/plain": [
       "True"
      ]
     },
     "execution_count": 30,
     "metadata": {},
     "output_type": "execute_result"
    }
   ],
   "source": [
    "import ecdsa\n",
    "from base64 import b64decode, b64encode\n",
    "\n",
    "sk = ecdsa.SigningKey.generate(curve=ecdsa.SECP256k1)\n",
    "vk = sk.get_verifying_key()\n",
    "signature = sk.sign(vk.to_string())\n",
    "vk.verify(signature, vk.to_string())"
   ]
  },
  {
   "cell_type": "markdown",
   "metadata": {},
   "source": [
    "The idea looks simple but `sk` (Signature Key) and `vk` (Verifying Key) are objects so I can't just put them into our transaction."
   ]
  },
  {
   "cell_type": "code",
   "execution_count": 31,
   "metadata": {},
   "outputs": [
    {
     "data": {
      "text/plain": [
       "(<ecdsa.keys.SigningKey at 0x7f60541a7b70>,\n",
       " <ecdsa.keys.VerifyingKey at 0x7f60540fe0b8>)"
      ]
     },
     "execution_count": 31,
     "metadata": {},
     "output_type": "execute_result"
    }
   ],
   "source": [
    "sk, vk"
   ]
  },
  {
   "cell_type": "markdown",
   "metadata": {},
   "source": [
    "There are helper methods but it still looks ugly."
   ]
  },
  {
   "cell_type": "code",
   "execution_count": 32,
   "metadata": {},
   "outputs": [
    {
     "data": {
      "text/plain": [
       "b'[\\xe7\\xf4\\xb8\\x8cT\\x91j\\xba\\x08y\\xa4\\xc2\\xb8\\xbd\\xe1`\\x1d\\x884rD\\x03\\xc1\\xb9\\x94\\x9b\\xa4Qgm\\x03bf\\xba)\\xc2\\xf7\\x0ck\\xaf\\xd0\\x02\\x81\\\\\\x10\\xd8\\xee]{|\\xeb\\xf7=\\x993\\x91b51\\x80\\xe0h\\xeb'"
      ]
     },
     "execution_count": 32,
     "metadata": {},
     "output_type": "execute_result"
    }
   ],
   "source": [
    "vk.to_string()"
   ]
  },
  {
   "cell_type": "code",
   "execution_count": 33,
   "metadata": {},
   "outputs": [
    {
     "data": {
      "text/plain": [
       "b'\\xddq\\x1e\\xdc\\x02\\x19\\xb5\\x96v\\xf9\\x11M\\x1d{\\x95\\xfe\\x94\\xd3\\x10\\xd7B\\x9a2u\\xaan\\x11}\\xaf\\xb5Y\\x01\\xe1ub\\xd7[\\xa1z\\xe1\\xcf\\xdc\\xc9(\\xe7\\xb7\\x19\\xb0\\xaa\\xec\\\\\\xef@5T\\xc1\\xdd\\xb91fz%\\n\\xab'"
      ]
     },
     "execution_count": 33,
     "metadata": {},
     "output_type": "execute_result"
    }
   ],
   "source": [
    "signature"
   ]
  },
  {
   "cell_type": "markdown",
   "metadata": {},
   "source": [
    "Let's encode them."
   ]
  },
  {
   "cell_type": "code",
   "execution_count": 34,
   "metadata": {},
   "outputs": [],
   "source": [
    "from base64 import b64encode, b64decode"
   ]
  },
  {
   "cell_type": "code",
   "execution_count": 35,
   "metadata": {},
   "outputs": [
    {
     "name": "stdout",
     "output_type": "stream",
     "text": [
      "public key: b'W+f0uIxUkWq6CHmkwri94WAdiDRyRAPBuZSbpFFnbQNiZropwvcMa6/QAoFcENjuXXt86/c9mTORYjUxgOBo6w==' \n",
      "signature:  b'3XEe3AIZtZZ2+RFNHXuV/pTTENdCmjJ1qm4Rfa+1WQHhdWLXW6F64c/cySjntxmwquxc70A1VMHduTFmeiUKqw=='\n"
     ]
    }
   ],
   "source": [
    "public_key = b64encode(vk.to_string())\n",
    "sign = b64encode(signature)\n",
    "\n",
    "print('public key: {} \\nsignature:  {}'.format(public_key, sign))"
   ]
  },
  {
   "cell_type": "code",
   "execution_count": 36,
   "metadata": {},
   "outputs": [],
   "source": [
    "# Our new transaction data\n",
    "@dataclass\n",
    "class Transaction:\n",
    "    recipient: bytes\n",
    "    sender: bytes\n",
    "    signature: bytes # New signature filed\n",
    "    amount: float\n",
    "    timestamp: float = field(default_factory=time)"
   ]
  },
  {
   "cell_type": "code",
   "execution_count": 37,
   "metadata": {},
   "outputs": [],
   "source": [
    "def sign(public: bytes, private: bytes) -> bytes:\n",
    "    print(private)\n",
    "    pk = b64decode(private)\n",
    "    print(pk)\n",
    "    signing_key = ecdsa.SigningKey.from_string(pk)\n",
    "    signature = b64encode(signing_key.sign(public))\n",
    "    return signature\n",
    "\n",
    "\n",
    "def is_valid(transaction: Transaction) -> bool:\n",
    "    pub_key = ecdsa.VerifyingKey.from_string(b64decode(transaction.sender))\n",
    "    return pub_key.verify(b64decode(transaction.signature), transaction.sender)\n",
    "\n",
    "\n",
    "class Person:\n",
    "    public: bytes\n",
    "    private: bytes\n",
    "\n",
    "    def __init__(self):\n",
    "        sk = ecdsa.SigningKey.generate(curve=ecdsa.SECP256k1)\n",
    "        vk = sk.get_verifying_key()\n",
    "        self.public = b64encode(vk.to_string())\n",
    "        self.private = b64encode(sk.to_string())\n",
    "\n",
    "    def __repr__(self):\n",
    "        return str(self.public)\n",
    "\n",
    "    def send_help(self, to:bytes, amount: float) -> Transaction:\n",
    "        return Transaction(\n",
    "            recipient=to,\n",
    "            sender=self.public,\n",
    "            signature=sign(self.public, self.private),\n",
    "            amount=amount\n",
    "        )"
   ]
  },
  {
   "cell_type": "markdown",
   "metadata": {},
   "source": [
    "Now if Alis wants to send help to Bob, first she and Bob have to genarate key pairs."
   ]
  },
  {
   "cell_type": "code",
   "execution_count": 38,
   "metadata": {},
   "outputs": [],
   "source": [
    "alise = Person()\n",
    "bob = Person()\n",
    "jon = Person()"
   ]
  },
  {
   "cell_type": "code",
   "execution_count": 39,
   "metadata": {},
   "outputs": [
    {
     "name": "stdout",
     "output_type": "stream",
     "text": [
      "b'sdA2fb9OG9RQH3SWLeELJQwAtvdFGsavEZj6K1dXhdc='\n",
      "b'\\xb1\\xd06}\\xbfN\\x1b\\xd4P\\x1ft\\x96-\\xe1\\x0b%\\x0c\\x00\\xb6\\xf7E\\x1a\\xc6\\xaf\\x11\\x98\\xfa+WW\\x85\\xd7'\n"
     ]
    },
    {
     "ename": "AssertionError",
     "evalue": "(32, 24)",
     "output_type": "error",
     "traceback": [
      "\u001b[0;31m---------------------------------------------------------------------------\u001b[0m",
      "\u001b[0;31mAssertionError\u001b[0m                            Traceback (most recent call last)",
      "\u001b[0;32m<ipython-input-39-9536091d8054>\u001b[0m in \u001b[0;36m<module>\u001b[0;34m\u001b[0m\n\u001b[0;32m----> 1\u001b[0;31m \u001b[0malise\u001b[0m\u001b[0;34m.\u001b[0m\u001b[0msend_help\u001b[0m\u001b[0;34m(\u001b[0m\u001b[0mto\u001b[0m\u001b[0;34m=\u001b[0m\u001b[0mbob\u001b[0m\u001b[0;34m.\u001b[0m\u001b[0mpublic\u001b[0m\u001b[0;34m,\u001b[0m \u001b[0mamount\u001b[0m\u001b[0;34m=\u001b[0m\u001b[0;36m2.0\u001b[0m\u001b[0;34m)\u001b[0m\u001b[0;34m\u001b[0m\u001b[0m\n\u001b[0m",
      "\u001b[0;32m<ipython-input-37-4fa40c25d051>\u001b[0m in \u001b[0;36msend_help\u001b[0;34m(self, to, amount)\u001b[0m\n\u001b[1;32m     30\u001b[0m             \u001b[0mrecipient\u001b[0m\u001b[0;34m=\u001b[0m\u001b[0mto\u001b[0m\u001b[0;34m,\u001b[0m\u001b[0;34m\u001b[0m\u001b[0m\n\u001b[1;32m     31\u001b[0m             \u001b[0msender\u001b[0m\u001b[0;34m=\u001b[0m\u001b[0mself\u001b[0m\u001b[0;34m.\u001b[0m\u001b[0mpublic\u001b[0m\u001b[0;34m,\u001b[0m\u001b[0;34m\u001b[0m\u001b[0m\n\u001b[0;32m---> 32\u001b[0;31m             \u001b[0msignature\u001b[0m\u001b[0;34m=\u001b[0m\u001b[0msign\u001b[0m\u001b[0;34m(\u001b[0m\u001b[0mself\u001b[0m\u001b[0;34m.\u001b[0m\u001b[0mpublic\u001b[0m\u001b[0;34m,\u001b[0m \u001b[0mself\u001b[0m\u001b[0;34m.\u001b[0m\u001b[0mprivate\u001b[0m\u001b[0;34m)\u001b[0m\u001b[0;34m,\u001b[0m\u001b[0;34m\u001b[0m\u001b[0m\n\u001b[0m\u001b[1;32m     33\u001b[0m             \u001b[0mamount\u001b[0m\u001b[0;34m=\u001b[0m\u001b[0mamount\u001b[0m\u001b[0;34m\u001b[0m\u001b[0m\n\u001b[1;32m     34\u001b[0m         )\n",
      "\u001b[0;32m<ipython-input-37-4fa40c25d051>\u001b[0m in \u001b[0;36msign\u001b[0;34m(public, private)\u001b[0m\n\u001b[1;32m      3\u001b[0m     \u001b[0mpk\u001b[0m \u001b[0;34m=\u001b[0m \u001b[0mb64decode\u001b[0m\u001b[0;34m(\u001b[0m\u001b[0mprivate\u001b[0m\u001b[0;34m)\u001b[0m\u001b[0;34m\u001b[0m\u001b[0m\n\u001b[1;32m      4\u001b[0m     \u001b[0mprint\u001b[0m\u001b[0;34m(\u001b[0m\u001b[0mpk\u001b[0m\u001b[0;34m)\u001b[0m\u001b[0;34m\u001b[0m\u001b[0m\n\u001b[0;32m----> 5\u001b[0;31m     \u001b[0msigning_key\u001b[0m \u001b[0;34m=\u001b[0m \u001b[0mecdsa\u001b[0m\u001b[0;34m.\u001b[0m\u001b[0mSigningKey\u001b[0m\u001b[0;34m.\u001b[0m\u001b[0mfrom_string\u001b[0m\u001b[0;34m(\u001b[0m\u001b[0mpk\u001b[0m\u001b[0;34m)\u001b[0m\u001b[0;34m\u001b[0m\u001b[0m\n\u001b[0m\u001b[1;32m      6\u001b[0m     \u001b[0msignature\u001b[0m \u001b[0;34m=\u001b[0m \u001b[0mb64encode\u001b[0m\u001b[0;34m(\u001b[0m\u001b[0msigning_key\u001b[0m\u001b[0;34m.\u001b[0m\u001b[0msign\u001b[0m\u001b[0;34m(\u001b[0m\u001b[0mpublic\u001b[0m\u001b[0;34m)\u001b[0m\u001b[0;34m)\u001b[0m\u001b[0;34m\u001b[0m\u001b[0m\n\u001b[1;32m      7\u001b[0m     \u001b[0;32mreturn\u001b[0m \u001b[0msignature\u001b[0m\u001b[0;34m\u001b[0m\u001b[0m\n",
      "\u001b[0;32m~/envs/ecf/lib/python3.7/site-packages/ecdsa/keys.py\u001b[0m in \u001b[0;36mfrom_string\u001b[0;34m(klass, string, curve, hashfunc)\u001b[0m\n\u001b[1;32m    147\u001b[0m     \u001b[0;34m@\u001b[0m\u001b[0mclassmethod\u001b[0m\u001b[0;34m\u001b[0m\u001b[0m\n\u001b[1;32m    148\u001b[0m     \u001b[0;32mdef\u001b[0m \u001b[0mfrom_string\u001b[0m\u001b[0;34m(\u001b[0m\u001b[0mklass\u001b[0m\u001b[0;34m,\u001b[0m \u001b[0mstring\u001b[0m\u001b[0;34m,\u001b[0m \u001b[0mcurve\u001b[0m\u001b[0;34m=\u001b[0m\u001b[0mNIST192p\u001b[0m\u001b[0;34m,\u001b[0m \u001b[0mhashfunc\u001b[0m\u001b[0;34m=\u001b[0m\u001b[0msha1\u001b[0m\u001b[0;34m)\u001b[0m\u001b[0;34m:\u001b[0m\u001b[0;34m\u001b[0m\u001b[0m\n\u001b[0;32m--> 149\u001b[0;31m         \u001b[0;32massert\u001b[0m \u001b[0mlen\u001b[0m\u001b[0;34m(\u001b[0m\u001b[0mstring\u001b[0m\u001b[0;34m)\u001b[0m \u001b[0;34m==\u001b[0m \u001b[0mcurve\u001b[0m\u001b[0;34m.\u001b[0m\u001b[0mbaselen\u001b[0m\u001b[0;34m,\u001b[0m \u001b[0;34m(\u001b[0m\u001b[0mlen\u001b[0m\u001b[0;34m(\u001b[0m\u001b[0mstring\u001b[0m\u001b[0;34m)\u001b[0m\u001b[0;34m,\u001b[0m \u001b[0mcurve\u001b[0m\u001b[0;34m.\u001b[0m\u001b[0mbaselen\u001b[0m\u001b[0;34m)\u001b[0m\u001b[0;34m\u001b[0m\u001b[0m\n\u001b[0m\u001b[1;32m    150\u001b[0m         \u001b[0msecexp\u001b[0m \u001b[0;34m=\u001b[0m \u001b[0mstring_to_number\u001b[0m\u001b[0;34m(\u001b[0m\u001b[0mstring\u001b[0m\u001b[0;34m)\u001b[0m\u001b[0;34m\u001b[0m\u001b[0m\n\u001b[1;32m    151\u001b[0m         \u001b[0;32mreturn\u001b[0m \u001b[0mklass\u001b[0m\u001b[0;34m.\u001b[0m\u001b[0mfrom_secret_exponent\u001b[0m\u001b[0;34m(\u001b[0m\u001b[0msecexp\u001b[0m\u001b[0;34m,\u001b[0m \u001b[0mcurve\u001b[0m\u001b[0;34m,\u001b[0m \u001b[0mhashfunc\u001b[0m\u001b[0;34m)\u001b[0m\u001b[0;34m\u001b[0m\u001b[0m\n",
      "\u001b[0;31mAssertionError\u001b[0m: (32, 24)"
     ]
    }
   ],
   "source": [
    "alise.send_help(to=bob.public, amount=2.0)"
   ]
  },
  {
   "cell_type": "code",
   "execution_count": 40,
   "metadata": {},
   "outputs": [
    {
     "ename": "AssertionError",
     "evalue": "(32, 24)",
     "output_type": "error",
     "traceback": [
      "\u001b[0;31m---------------------------------------------------------------------------\u001b[0m",
      "\u001b[0;31mAssertionError\u001b[0m                            Traceback (most recent call last)",
      "\u001b[0;32m<ipython-input-40-c5bf9eebd867>\u001b[0m in \u001b[0;36m<module>\u001b[0;34m\u001b[0m\n\u001b[0;32m----> 1\u001b[0;31m \u001b[0mecdsa\u001b[0m\u001b[0;34m.\u001b[0m\u001b[0mSigningKey\u001b[0m\u001b[0;34m.\u001b[0m\u001b[0mfrom_string\u001b[0m\u001b[0;34m(\u001b[0m\u001b[0;34mb'\\x13\\xdf\\x1c\\xd0.U9\\x01|\\x14-.\\x9a\\xf7\\xf9\\xac\\xed\\x05\\xa6\"\\x0e\\x9cj*L/\\xd8\\xbe\\x87\\x08\\xd0w'\u001b[0m\u001b[0;34m)\u001b[0m\u001b[0;34m\u001b[0m\u001b[0m\n\u001b[0m",
      "\u001b[0;32m~/envs/ecf/lib/python3.7/site-packages/ecdsa/keys.py\u001b[0m in \u001b[0;36mfrom_string\u001b[0;34m(klass, string, curve, hashfunc)\u001b[0m\n\u001b[1;32m    147\u001b[0m     \u001b[0;34m@\u001b[0m\u001b[0mclassmethod\u001b[0m\u001b[0;34m\u001b[0m\u001b[0m\n\u001b[1;32m    148\u001b[0m     \u001b[0;32mdef\u001b[0m \u001b[0mfrom_string\u001b[0m\u001b[0;34m(\u001b[0m\u001b[0mklass\u001b[0m\u001b[0;34m,\u001b[0m \u001b[0mstring\u001b[0m\u001b[0;34m,\u001b[0m \u001b[0mcurve\u001b[0m\u001b[0;34m=\u001b[0m\u001b[0mNIST192p\u001b[0m\u001b[0;34m,\u001b[0m \u001b[0mhashfunc\u001b[0m\u001b[0;34m=\u001b[0m\u001b[0msha1\u001b[0m\u001b[0;34m)\u001b[0m\u001b[0;34m:\u001b[0m\u001b[0;34m\u001b[0m\u001b[0m\n\u001b[0;32m--> 149\u001b[0;31m         \u001b[0;32massert\u001b[0m \u001b[0mlen\u001b[0m\u001b[0;34m(\u001b[0m\u001b[0mstring\u001b[0m\u001b[0;34m)\u001b[0m \u001b[0;34m==\u001b[0m \u001b[0mcurve\u001b[0m\u001b[0;34m.\u001b[0m\u001b[0mbaselen\u001b[0m\u001b[0;34m,\u001b[0m \u001b[0;34m(\u001b[0m\u001b[0mlen\u001b[0m\u001b[0;34m(\u001b[0m\u001b[0mstring\u001b[0m\u001b[0;34m)\u001b[0m\u001b[0;34m,\u001b[0m \u001b[0mcurve\u001b[0m\u001b[0;34m.\u001b[0m\u001b[0mbaselen\u001b[0m\u001b[0;34m)\u001b[0m\u001b[0;34m\u001b[0m\u001b[0m\n\u001b[0m\u001b[1;32m    150\u001b[0m         \u001b[0msecexp\u001b[0m \u001b[0;34m=\u001b[0m \u001b[0mstring_to_number\u001b[0m\u001b[0;34m(\u001b[0m\u001b[0mstring\u001b[0m\u001b[0;34m)\u001b[0m\u001b[0;34m\u001b[0m\u001b[0m\n\u001b[1;32m    151\u001b[0m         \u001b[0;32mreturn\u001b[0m \u001b[0mklass\u001b[0m\u001b[0;34m.\u001b[0m\u001b[0mfrom_secret_exponent\u001b[0m\u001b[0;34m(\u001b[0m\u001b[0msecexp\u001b[0m\u001b[0;34m,\u001b[0m \u001b[0mcurve\u001b[0m\u001b[0;34m,\u001b[0m \u001b[0mhashfunc\u001b[0m\u001b[0;34m)\u001b[0m\u001b[0;34m\u001b[0m\u001b[0m\n",
      "\u001b[0;31mAssertionError\u001b[0m: (32, 24)"
     ]
    }
   ],
   "source": [
    "ecdsa.SigningKey.from_string(b'\\x13\\xdf\\x1c\\xd0.U9\\x01|\\x14-.\\x9a\\xf7\\xf9\\xac\\xed\\x05\\xa6\"\\x0e\\x9cj*L/\\xd8\\xbe\\x87\\x08\\xd0w')"
   ]
  },
  {
   "cell_type": "code",
   "execution_count": null,
   "metadata": {},
   "outputs": [],
   "source": []
  },
  {
   "cell_type": "code",
   "execution_count": null,
   "metadata": {},
   "outputs": [],
   "source": []
  }
 ],
 "metadata": {
  "kernelspec": {
   "display_name": "Python 3",
   "language": "python",
   "name": "python3"
  },
  "language_info": {
   "codemirror_mode": {
    "name": "ipython",
    "version": 3
   },
   "file_extension": ".py",
   "mimetype": "text/x-python",
   "name": "python",
   "nbconvert_exporter": "python",
   "pygments_lexer": "ipython3",
   "version": "3.7.0"
  }
 },
 "nbformat": 4,
 "nbformat_minor": 2
}
