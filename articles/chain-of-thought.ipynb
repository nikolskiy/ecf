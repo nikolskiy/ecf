{
 "cells": [
  {
   "cell_type": "markdown",
   "metadata": {},
   "source": [
    "## A simple math problem"
   ]
  },
  {
   "cell_type": "markdown",
   "metadata": {},
   "source": [
    "There is a group of 300 people who want to help each other. Unfortunately, a single person can meaningfully keep track of 150 people. Hovewer, all 300 want to cooperate and treat each other fairly. How can they do that?\n",
    "\n",
    "It's sad that you will not find the problem in any schoolbook. If you did, the initial answer would be simple. Why don't they write down who helped whom and how much?"
   ]
  },
  {
   "cell_type": "code",
   "execution_count": 2,
   "metadata": {},
   "outputs": [],
   "source": [
    "from dataclasses import dataclass, field\n",
    "from time import time\n",
    "\n",
    "@dataclass\n",
    "class Transaction:\n",
    "    recipient: str\n",
    "    sender: str\n",
    "    amount: float\n",
    "    timestamp: float = field(default_factory=time)"
   ]
  },
  {
   "cell_type": "markdown",
   "metadata": {},
   "source": [
    "## Key block"
   ]
  },
  {
   "cell_type": "markdown",
   "metadata": {},
   "source": [
    "A block of transactions can help people keep track of any help provided. That way you don't need to remember how much help you gave and how much you received."
   ]
  },
  {
   "cell_type": "code",
   "execution_count": 3,
   "metadata": {},
   "outputs": [],
   "source": [
    "block = []\n",
    "block.append(Transaction(\n",
    "    sender='Alice', recipient='Bob', amount=2.0\n",
    "))\n",
    "block.append(Transaction(\n",
    "    sender='Bob', recipient='Jon', amount=4.5\n",
    "))"
   ]
  },
  {
   "cell_type": "code",
   "execution_count": 4,
   "metadata": {},
   "outputs": [
    {
     "data": {
      "text/plain": [
       "[Transaction(recipient='Bob', sender='Alice', amount=2.0, timestamp=1543080574.365635),\n",
       " Transaction(recipient='Jon', sender='Bob', amount=4.5, timestamp=1543080574.3657246)]"
      ]
     },
     "execution_count": 4,
     "metadata": {},
     "output_type": "execute_result"
    }
   ],
   "source": [
    "block"
   ]
  },
  {
   "cell_type": "markdown",
   "metadata": {},
   "source": [
    "This covers direct person to person cooperation. Everyone is happy but if someone tries to cooperate indirectly, things fall apart. Since anyone can update the block, transactions can be removed. If people try to exchange units of help, there is an incentive to mess with the transaction list.\n",
    "\n",
    "In order to prevent tampering with transactions in a block we can hash the block and include the hash in the next block. If someone changes transactions, the hash will be different and the tampering will be apparent."
   ]
  },
  {
   "cell_type": "code",
   "execution_count": 5,
   "metadata": {},
   "outputs": [],
   "source": [
    "import hashlib\n",
    "\n",
    "class Block:\n",
    "    transactions: list\n",
    "    previous_hash: str = 'coinbase'\n",
    "\n",
    "    def __init__(self):\n",
    "        self.transactions = []\n",
    "\n",
    "    def append(self, t: Transaction):\n",
    "        self.transactions.append(t)\n",
    "    \n",
    "    def __repr__(self):\n",
    "        return 'transactions: {}\\n\\nprevious hash: {}'.format(self.transactions.__repr__(), self.previous_hash)\n",
    "    \n",
    "    def hash(self):\n",
    "        return hashlib.sha256(str(self).encode()).hexdigest()\n",
    "        "
   ]
  },
  {
   "cell_type": "code",
   "execution_count": 6,
   "metadata": {},
   "outputs": [],
   "source": [
    "block = Block()\n",
    "block.append(Transaction(\n",
    "    sender='Alice', recipient='Bob', amount=2.0\n",
    "))\n",
    "block.append(Transaction(\n",
    "    sender='Bob', recipient='Jon', amount=4.5\n",
    "))"
   ]
  },
  {
   "cell_type": "code",
   "execution_count": 7,
   "metadata": {},
   "outputs": [
    {
     "data": {
      "text/plain": [
       "transactions: [Transaction(recipient='Bob', sender='Alice', amount=2.0, timestamp=1543080684.280628), Transaction(recipient='Jon', sender='Bob', amount=4.5, timestamp=1543080684.2807264)]\n",
       "\n",
       "previous hash: coinbase"
      ]
     },
     "execution_count": 7,
     "metadata": {},
     "output_type": "execute_result"
    }
   ],
   "source": [
    "block"
   ]
  },
  {
   "cell_type": "code",
   "execution_count": 8,
   "metadata": {},
   "outputs": [
    {
     "data": {
      "text/plain": [
       "'e1e5db122a41e6feff5813a2a6775e31087d86881ae458c6211ca0bedf0e005a'"
      ]
     },
     "execution_count": 8,
     "metadata": {},
     "output_type": "execute_result"
    }
   ],
   "source": [
    "block.hash()"
   ]
  },
  {
   "cell_type": "markdown",
   "metadata": {},
   "source": [
    "Hey, look at that! We got a short and unique (for our purposes) representation of our block and all the transactions in it."
   ]
  },
  {
   "cell_type": "code",
   "execution_count": 9,
   "metadata": {},
   "outputs": [],
   "source": [
    "block.append(Transaction(\n",
    "    sender='Jon', recipient='Bob', amount=1.0\n",
    "))"
   ]
  },
  {
   "cell_type": "code",
   "execution_count": 10,
   "metadata": {},
   "outputs": [
    {
     "data": {
      "text/plain": [
       "'7b485bd5f8cf0971479c38ab4072385bfa12a9612397d7e6f845d1dca5d049f6'"
      ]
     },
     "execution_count": 10,
     "metadata": {},
     "output_type": "execute_result"
    }
   ],
   "source": [
    "block.hash()"
   ]
  },
  {
   "cell_type": "markdown",
   "metadata": {},
   "source": [
    "## Verification"
   ]
  },
  {
   "cell_type": "markdown",
   "metadata": {},
   "source": [
    "Now anyone can put the blocks into a chain and it's easy to prove that no one tampered with prevous transactions."
   ]
  },
  {
   "cell_type": "code",
   "execution_count": 12,
   "metadata": {},
   "outputs": [],
   "source": [
    "import itertools\n",
    "\n",
    "\n",
    "class Chain:\n",
    "    blocks: list\n",
    "\n",
    "    def __init__(self):\n",
    "        \"\"\"We need initial block\"\"\"\n",
    "        block = Block()\n",
    "        block.append(Transaction(\n",
    "            sender='Alice', recipient='Alice', amount=2.0\n",
    "        ))\n",
    "        self.blocks = [block]\n",
    "\n",
    "    def push(self, block: Block):\n",
    "        block.previous_hash = self.blocks[-1].hash()\n",
    "        self.blocks.append(block)\n",
    "\n",
    "    @property\n",
    "    def tampered(self):\n",
    "        \"\"\"\n",
    "        This gives you the position of an invalid block according to its neighbour to the right.\n",
    "        If the chain looks good, it returns 0.\n",
    "        \"\"\"\n",
    "        a, b = itertools.tee(self.blocks)\n",
    "        next(b, None)\n",
    "        for position, pair in enumerate(zip(a, b)):\n",
    "            if pair[0].hash() != pair[1].previous_hash:\n",
    "                return position\n",
    "        return -1\n",
    "\n",
    "    @property\n",
    "    def is_valid(self):\n",
    "        if self.tampered < 0:\n",
    "            return True\n",
    "        return False\n",
    "        "
   ]
  },
  {
   "cell_type": "code",
   "execution_count": 13,
   "metadata": {},
   "outputs": [],
   "source": [
    "chain = Chain()"
   ]
  },
  {
   "cell_type": "code",
   "execution_count": 14,
   "metadata": {},
   "outputs": [
    {
     "data": {
      "text/plain": [
       "[transactions: [Transaction(recipient='Alice', sender='Alice', amount=2.0, timestamp=1543080808.9180856)]\n",
       " \n",
       " previous hash: coinbase]"
      ]
     },
     "execution_count": 14,
     "metadata": {},
     "output_type": "execute_result"
    }
   ],
   "source": [
    "chain.blocks"
   ]
  },
  {
   "cell_type": "code",
   "execution_count": 15,
   "metadata": {},
   "outputs": [],
   "source": [
    "for _ in range(10):\n",
    "    block = Block()\n",
    "    for j in range(3):\n",
    "        block.append(Transaction(sender='Bob', recipient='Jon', amount=j))\n",
    "    chain.push(block)"
   ]
  },
  {
   "cell_type": "code",
   "execution_count": 16,
   "metadata": {},
   "outputs": [
    {
     "data": {
      "text/plain": [
       "True"
      ]
     },
     "execution_count": 16,
     "metadata": {},
     "output_type": "execute_result"
    }
   ],
   "source": [
    "chain.is_valid"
   ]
  },
  {
   "cell_type": "code",
   "execution_count": 17,
   "metadata": {},
   "outputs": [
    {
     "data": {
      "text/plain": [
       "Transaction(recipient='Alice', sender='Alice', amount=2.0, timestamp=1543080808.9180856)"
      ]
     },
     "execution_count": 17,
     "metadata": {},
     "output_type": "execute_result"
    }
   ],
   "source": [
    "borrowed = chain.blocks[0].transactions.pop()\n",
    "borrowed"
   ]
  },
  {
   "cell_type": "code",
   "execution_count": 18,
   "metadata": {},
   "outputs": [
    {
     "data": {
      "text/plain": [
       "False"
      ]
     },
     "execution_count": 18,
     "metadata": {},
     "output_type": "execute_result"
    }
   ],
   "source": [
    "chain.is_valid"
   ]
  },
  {
   "cell_type": "code",
   "execution_count": 19,
   "metadata": {},
   "outputs": [
    {
     "data": {
      "text/plain": [
       "0"
      ]
     },
     "execution_count": 19,
     "metadata": {},
     "output_type": "execute_result"
    }
   ],
   "source": [
    "chain.tampered"
   ]
  },
  {
   "cell_type": "markdown",
   "metadata": {},
   "source": [
    "Let's put the borrowed transaction back."
   ]
  },
  {
   "cell_type": "code",
   "execution_count": 20,
   "metadata": {},
   "outputs": [],
   "source": [
    "chain.blocks[0].transactions.append(borrowed)"
   ]
  },
  {
   "cell_type": "code",
   "execution_count": 21,
   "metadata": {},
   "outputs": [
    {
     "data": {
      "text/plain": [
       "True"
      ]
     },
     "execution_count": 21,
     "metadata": {},
     "output_type": "execute_result"
    }
   ],
   "source": [
    "chain.is_valid"
   ]
  },
  {
   "cell_type": "markdown",
   "metadata": {},
   "source": [
    "We can only mess with transactions in the last block."
   ]
  },
  {
   "cell_type": "code",
   "execution_count": 22,
   "metadata": {},
   "outputs": [],
   "source": [
    "chain.blocks[-1].append(Transaction(recipient='Alice', sender='Jon', amount=5))"
   ]
  },
  {
   "cell_type": "code",
   "execution_count": 23,
   "metadata": {},
   "outputs": [
    {
     "data": {
      "text/plain": [
       "True"
      ]
     },
     "execution_count": 23,
     "metadata": {},
     "output_type": "execute_result"
    }
   ],
   "source": [
    "chain.is_valid"
   ]
  },
  {
   "cell_type": "markdown",
   "metadata": {},
   "source": [
    "## Equal opportunity to verify"
   ]
  },
  {
   "cell_type": "markdown",
   "metadata": {},
   "source": [
    "Now, who should have the right to create blocks and add them to the chain? Everyone who wants to! We just need to make sure it's not monopolized by a single person. Somehow we need to give an equal-ish chance for everyone to verify previous blocks and add new ones. Here comes the elegant part. What if we allow the previous hash field to only start with `00`? Our block will have a special `nonce` field that can have anything that makes our block hash start with `00`. If we use a good hashing algorithm, there is no other way but to try different possibilities until we get what we need. This kind of help work should be rewarded. We'll allow that person to assign help units to herself out of nothing."
   ]
  },
  {
   "cell_type": "code",
   "execution_count": 24,
   "metadata": {},
   "outputs": [],
   "source": [
    "class Block:\n",
    "    transactions: list\n",
    "    previous_hash: str = 'coinbase'\n",
    "    nonce: str = 'blahblahblah'\n",
    "\n",
    "    def __init__(self):\n",
    "        self.transactions = []\n",
    "\n",
    "    def append(self, t: Transaction):\n",
    "        self.transactions.append(t)\n",
    "    \n",
    "    def __repr__(self):\n",
    "        return 'transactions: {}\\n\\nprevious hash: {}\\n\\nnonce: {}'.format(\n",
    "            self.transactions.__repr__(), self.previous_hash, self.nonce\n",
    "        )\n",
    "    \n",
    "    def hash(self):\n",
    "        return hashlib.sha256(str(self).encode()).hexdigest()\n",
    "        "
   ]
  },
  {
   "cell_type": "code",
   "execution_count": 25,
   "metadata": {},
   "outputs": [],
   "source": [
    "from uuid import uuid4\n",
    "\n",
    "def add_block_with_proof_of_work(chain: Chain, block: Block):\n",
    "    last_block = chain.blocks[-1]\n",
    "    for i in range(100000):\n",
    "        last_block.nonce = uuid4()\n",
    "        temp_hash = last_block.hash()\n",
    "        if temp_hash.startswith('00'):\n",
    "            block.previous_hash = temp_hash\n",
    "            chain.blocks.append(block)\n",
    "            print('Found hash {} after {} iterations'.format(temp_hash, i))\n",
    "            break\n",
    "    else:\n",
    "        print('After {} iterations, needed hash was not found.'.format(i))    "
   ]
  },
  {
   "cell_type": "code",
   "execution_count": 26,
   "metadata": {},
   "outputs": [],
   "source": [
    "chain = Chain()"
   ]
  },
  {
   "cell_type": "code",
   "execution_count": 27,
   "metadata": {},
   "outputs": [],
   "source": [
    "block = Block()\n",
    "for j in range(3):\n",
    "    block.append(Transaction(sender='Bob', recipient='Jon', amount=j))"
   ]
  },
  {
   "cell_type": "code",
   "execution_count": 28,
   "metadata": {},
   "outputs": [
    {
     "name": "stdout",
     "output_type": "stream",
     "text": [
      "Found hash 0057e4d1374f4e5668081b19459538f4e37f8a03311eef108ac51678907f7e2d after 587 iterations\n"
     ]
    }
   ],
   "source": [
    "add_block_with_proof_of_work(chain, block)"
   ]
  },
  {
   "cell_type": "code",
   "execution_count": 29,
   "metadata": {},
   "outputs": [
    {
     "data": {
      "text/plain": [
       "[transactions: [Transaction(recipient='Alice', sender='Alice', amount=2.0, timestamp=1543081199.940345)]\n",
       " \n",
       " previous hash: coinbase\n",
       " \n",
       " nonce: 459c51f7-6af2-4dff-9afd-cd2857ac8ac1,\n",
       " transactions: [Transaction(recipient='Jon', sender='Bob', amount=0, timestamp=1543081201.4088042), Transaction(recipient='Jon', sender='Bob', amount=1, timestamp=1543081201.4088075), Transaction(recipient='Jon', sender='Bob', amount=2, timestamp=1543081201.4088092)]\n",
       " \n",
       " previous hash: 0057e4d1374f4e5668081b19459538f4e37f8a03311eef108ac51678907f7e2d\n",
       " \n",
       " nonce: blahblahblah]"
      ]
     },
     "execution_count": 29,
     "metadata": {},
     "output_type": "execute_result"
    }
   ],
   "source": [
    "chain.blocks"
   ]
  },
  {
   "cell_type": "code",
   "execution_count": 30,
   "metadata": {},
   "outputs": [
    {
     "data": {
      "text/plain": [
       "True"
      ]
     },
     "execution_count": 30,
     "metadata": {},
     "output_type": "execute_result"
    }
   ],
   "source": [
    "chain.is_valid"
   ]
  },
  {
   "cell_type": "markdown",
   "metadata": {},
   "source": [
    "The facinating part is that we can have any number of arbitrary rules. As long as each helper (a.k.a miner) validates previous work, the system is stable. Each helper gets a reward if her block becomes part of the chain and loses that reward if someone else decides it's wrong. Since it's guaranteed that no one can validate their own work, everyone has to abide by an accepted set of rules."
   ]
  },
  {
   "cell_type": "markdown",
   "metadata": {},
   "source": [
    "## Asymmetric encryption to the rescue"
   ]
  },
  {
   "cell_type": "markdown",
   "metadata": {},
   "source": [
    "There is one last major problem. Anyone can register a transaction from Alice (since she has a lot of help units) to Bob. It will be all valid but Alice might not even know she transferred her help units to Bob."
   ]
  },
  {
   "cell_type": "markdown",
   "metadata": {},
   "source": [
    "Sadly, Python doesn't have many encryption features in its standard library. Cryptography is a big field. There are lots of libs that can generate keys like PyCryptodome but we need something simple here. [ecdsa](https://github.com/warner/python-ecdsa) is the simplest to use for signature purposes. After `pip install ecdsa` we can import and use it."
   ]
  },
  {
   "cell_type": "code",
   "execution_count": 31,
   "metadata": {},
   "outputs": [
    {
     "data": {
      "text/plain": [
       "True"
      ]
     },
     "execution_count": 31,
     "metadata": {},
     "output_type": "execute_result"
    }
   ],
   "source": [
    "import ecdsa\n",
    "from base64 import b64decode, b64encode\n",
    "\n",
    "sk = ecdsa.SigningKey.generate(curve=ecdsa.SECP256k1)\n",
    "vk = sk.get_verifying_key()\n",
    "signature = sk.sign(vk.to_string())\n",
    "vk.verify(signature, vk.to_string())"
   ]
  },
  {
   "cell_type": "markdown",
   "metadata": {},
   "source": [
    "The idea looks simple but `sk` (Signature Key) and `vk` (Verifying Key) are objects so we can't just put them into a transaction."
   ]
  },
  {
   "cell_type": "code",
   "execution_count": 32,
   "metadata": {},
   "outputs": [
    {
     "data": {
      "text/plain": [
       "(<ecdsa.keys.SigningKey at 0x7fa04822f470>,\n",
       " <ecdsa.keys.VerifyingKey at 0x7fa048173940>)"
      ]
     },
     "execution_count": 32,
     "metadata": {},
     "output_type": "execute_result"
    }
   ],
   "source": [
    "sk, vk"
   ]
  },
  {
   "cell_type": "markdown",
   "metadata": {},
   "source": [
    "There are helper methods but it still looks ugly."
   ]
  },
  {
   "cell_type": "code",
   "execution_count": 33,
   "metadata": {},
   "outputs": [
    {
     "data": {
      "text/plain": [
       "b'\\x06\\xfa\\x84\\t3\\x9d\\x87\\x97\\xd7\\x02\\x82\\x05d\\xcc\\x0b\\xde1\\xc3\\xe3|\\xab\\xf4l\\x85\\xfe\\xce{\\x13\\xe4\\x9d\\xe9\\xc1\\x87\\xf5\\xf9\\xc6\\xda\\xa4\\xa9\\x12V\\xc3\\xe3\\xe8\\xab\\x9e\\x1c\\xc6\\xc3\\xbed\\x90\\x92oL\\x0b\\xf0\\xa4h]\\x01)\\x9e0'"
      ]
     },
     "execution_count": 33,
     "metadata": {},
     "output_type": "execute_result"
    }
   ],
   "source": [
    "vk.to_string()"
   ]
  },
  {
   "cell_type": "code",
   "execution_count": 34,
   "metadata": {},
   "outputs": [
    {
     "data": {
      "text/plain": [
       "b'\\x93|\\xa0t\\xd7l\\xd8\\xd9\\x0cG\\xba\\x90u1\\x0c:e\\xbe\\x15\\x83=\\xf4\\xf1\\xe7\\x05n\\xe7#\\x7f#\\xf2tK6~\\x123\\xdf\\xa2}\\x13\\xfc!%\\xa4\\x8f\\xeap\\x8fL\\xb6\\xc0\\x8a\\xbd\\xbfY8\\xcdj\\x15\\xea\\x93_\\xe2'"
      ]
     },
     "execution_count": 34,
     "metadata": {},
     "output_type": "execute_result"
    }
   ],
   "source": [
    "signature"
   ]
  },
  {
   "cell_type": "markdown",
   "metadata": {},
   "source": [
    "Let's encode them."
   ]
  },
  {
   "cell_type": "code",
   "execution_count": 35,
   "metadata": {},
   "outputs": [],
   "source": [
    "from base64 import b64encode, b64decode"
   ]
  },
  {
   "cell_type": "code",
   "execution_count": 36,
   "metadata": {},
   "outputs": [
    {
     "name": "stdout",
     "output_type": "stream",
     "text": [
      "public key: b'BvqECTOdh5fXAoIFZMwL3jHD43yr9GyF/s57E+Sd6cGH9fnG2qSpElbD4+irnhzGw75kkJJvTAvwpGhdASmeMA==' \n",
      "signature:  b'k3ygdNds2NkMR7qQdTEMOmW+FYM99PHnBW7nI38j8nRLNn4SM9+ifRP8ISWkj+pwj0y2wIq9v1k4zWoV6pNf4g=='\n"
     ]
    }
   ],
   "source": [
    "public_key = b64encode(vk.to_string())\n",
    "sign = b64encode(signature)\n",
    "\n",
    "print('public key: {} \\nsignature:  {}'.format(public_key, sign))"
   ]
  },
  {
   "cell_type": "markdown",
   "metadata": {},
   "source": [
    "That looks a little better. Are there any other possibilities?"
   ]
  },
  {
   "cell_type": "code",
   "execution_count": 37,
   "metadata": {},
   "outputs": [],
   "source": [
    "from binascii import hexlify, unhexlify"
   ]
  },
  {
   "cell_type": "code",
   "execution_count": 38,
   "metadata": {},
   "outputs": [
    {
     "name": "stdout",
     "output_type": "stream",
     "text": [
      "public key: b'06fa8409339d8797d702820564cc0bde31c3e37cabf46c85fece7b13e49de9c187f5f9c6daa4a91256c3e3e8ab9e1cc6c3be6490926f4c0bf0a4685d01299e30' \n",
      "signature:  b'937ca074d76cd8d90c47ba9075310c3a65be15833df4f1e7056ee7237f23f2744b367e1233dfa27d13fc2125a48fea708f4cb6c08abdbf5938cd6a15ea935fe2'\n"
     ]
    }
   ],
   "source": [
    "public_key = hexlify(vk.to_string())\n",
    "sign = hexlify(signature)\n",
    "\n",
    "print('public key: {} \\nsignature:  {}'.format(public_key, sign))"
   ]
  },
  {
   "cell_type": "markdown",
   "metadata": {},
   "source": [
    "It looks prettier but longer. I'll stick with the shorter version here. I always wondered why wallet addresses look so different for different coins. I guess the answer lies in encoding preferences. Onward to our signature field!"
   ]
  },
  {
   "cell_type": "code",
   "execution_count": 39,
   "metadata": {},
   "outputs": [],
   "source": [
    "# Our new transaction data\n",
    "@dataclass\n",
    "class Transaction:\n",
    "    recipient: bytes\n",
    "    sender: bytes\n",
    "    amount: float\n",
    "    signature: bytes = b'' # New signature filed\n",
    "    timestamp: float = field(default_factory=time)"
   ]
  },
  {
   "cell_type": "code",
   "execution_count": 40,
   "metadata": {},
   "outputs": [],
   "source": [
    "def sign(public: bytes, private: bytes) -> bytes:\n",
    "    pk = b64decode(private)\n",
    "    signing_key = ecdsa.SigningKey.from_string(pk, curve=ecdsa.SECP256k1)\n",
    "    signature = b64encode(signing_key.sign(public))\n",
    "    return signature\n",
    "\n",
    "\n",
    "def is_valid(transaction: Transaction) -> bool:\n",
    "    pub_key = ecdsa.VerifyingKey.from_string(b64decode(transaction.sender))\n",
    "    return pub_key.verify(b64decode(transaction.signature), transaction.sender)\n",
    "\n",
    "\n",
    "class Person:\n",
    "    public: bytes\n",
    "    private: bytes\n",
    "\n",
    "    def __init__(self):\n",
    "        sk = ecdsa.SigningKey.generate(curve=ecdsa.SECP256k1)\n",
    "        vk = sk.get_verifying_key()\n",
    "        self.public = b64encode(vk.to_string())\n",
    "        self.private = b64encode(sk.to_string())\n",
    "\n",
    "    def __repr__(self):\n",
    "        return str(self.public)\n",
    "\n",
    "    def send_help(self, to:bytes, amount: float) -> Transaction:\n",
    "        return Transaction(\n",
    "            recipient=to,\n",
    "            sender=self.public,\n",
    "            signature=sign(self.public, self.private),\n",
    "            amount=amount\n",
    "        )"
   ]
  },
  {
   "cell_type": "markdown",
   "metadata": {},
   "source": [
    "Now if Alice wants to send help to Bob, first she and Bob have to generate key pairs."
   ]
  },
  {
   "cell_type": "code",
   "execution_count": 41,
   "metadata": {},
   "outputs": [],
   "source": [
    "alice = Person()\n",
    "bob = Person()\n",
    "jon = Person()"
   ]
  },
  {
   "cell_type": "code",
   "execution_count": 42,
   "metadata": {},
   "outputs": [
    {
     "data": {
      "text/plain": [
       "Transaction(recipient=b'wLJrx3m7PaAAHBznkGkaTcvKIv1RPiEYfhJXTLA2Dkv9WaTisxzH9/qaz0D/MJFcdoQzAeRlTHlIZXXb0IkHbA==', sender=b'6fSY2PmB8tfTcPZiiMravTkCkmWjYyTLewXoTQIAqD1aTyDdZ/k9866HzaUhw4FBOoeMqaEteIjMYDnFYvBERA==', amount=2.0, signature=b'LBFQyrIH6xq6d37q+rWxk9Msmwa+q0inZI+7eVvDwhLAJxQsiAdbENCdjWFPz4FJzqrB6cGnX3/EljlIXq+Nlg==', timestamp=1543081709.6904411)"
      ]
     },
     "execution_count": 42,
     "metadata": {},
     "output_type": "execute_result"
    }
   ],
   "source": [
    "alice.send_help(to=bob.public, amount=2.0)"
   ]
  },
  {
   "cell_type": "code",
   "execution_count": 43,
   "metadata": {},
   "outputs": [],
   "source": [
    "chain = Chain()"
   ]
  },
  {
   "cell_type": "code",
   "execution_count": 44,
   "metadata": {},
   "outputs": [],
   "source": [
    "block = Block()"
   ]
  },
  {
   "cell_type": "code",
   "execution_count": 46,
   "metadata": {},
   "outputs": [],
   "source": [
    "block.append(alice.send_help(to=bob.public, amount=10.0))\n",
    "block.append(bob.send_help(to=jon.public, amount=5.0))\n",
    "block.append(jon.send_help(to=alice.public, amount=2.5))"
   ]
  },
  {
   "cell_type": "code",
   "execution_count": 47,
   "metadata": {},
   "outputs": [
    {
     "name": "stdout",
     "output_type": "stream",
     "text": [
      "Found hash 00e84f8cca8b7ab7c0809863df7ac87339bfe0c92943e117b710abefa9cba645 after 433 iterations\n"
     ]
    }
   ],
   "source": [
    "add_block_with_proof_of_work(chain, block)"
   ]
  },
  {
   "cell_type": "code",
   "execution_count": 48,
   "metadata": {},
   "outputs": [
    {
     "data": {
      "text/plain": [
       "[transactions: [Transaction(recipient='Alice', sender='Alice', amount=2.0, signature=b'', timestamp=1543081711.6849842)]\n",
       " \n",
       " previous hash: coinbase\n",
       " \n",
       " nonce: 3367901e-0799-48d1-b46f-637e172e25c7,\n",
       " transactions: [Transaction(recipient=b'wLJrx3m7PaAAHBznkGkaTcvKIv1RPiEYfhJXTLA2Dkv9WaTisxzH9/qaz0D/MJFcdoQzAeRlTHlIZXXb0IkHbA==', sender=b'6fSY2PmB8tfTcPZiiMravTkCkmWjYyTLewXoTQIAqD1aTyDdZ/k9866HzaUhw4FBOoeMqaEteIjMYDnFYvBERA==', amount=10.0, signature=b'0iX4aF6tuNd5micYLE9d7W5gViBFeGsDzxuS8ExtfxPwnuwS+lxmuFjg2Z0Z8hh8Xopagwjn+O8GoRgkR1TLMw==', timestamp=1543081723.5875883), Transaction(recipient=b'PJSLBxxGFVOhu4n1nyoNOZGcC7lUdqpKIGVkOtkuJwjI6f2LwF3C7/Ff9RX3NNYs1X7X79N6JWbASwBcqxMocg==', sender=b'wLJrx3m7PaAAHBznkGkaTcvKIv1RPiEYfhJXTLA2Dkv9WaTisxzH9/qaz0D/MJFcdoQzAeRlTHlIZXXb0IkHbA==', amount=5.0, signature=b'MVcrroA8VRwhpsqlza1tdKfohzihHclBdgRycu0Q89Wz8dKf+8Pxs4IRPcAg33Rq2lprGM3OqmreLeG4LlCRPg==', timestamp=1543081723.6789649), Transaction(recipient=b'6fSY2PmB8tfTcPZiiMravTkCkmWjYyTLewXoTQIAqD1aTyDdZ/k9866HzaUhw4FBOoeMqaEteIjMYDnFYvBERA==', sender=b'PJSLBxxGFVOhu4n1nyoNOZGcC7lUdqpKIGVkOtkuJwjI6f2LwF3C7/Ff9RX3NNYs1X7X79N6JWbASwBcqxMocg==', amount=2.5, signature=b'q673f2UpmxQMVHbZyKECqs8PGG6dsxHP90iFcPICGFWh/Qi0S48+02mHudga4wCxLugl6qRgOCEaWzo3FkFktw==', timestamp=1543081723.768592)]\n",
       " \n",
       " previous hash: 00e84f8cca8b7ab7c0809863df7ac87339bfe0c92943e117b710abefa9cba645\n",
       " \n",
       " nonce: blahblahblah]"
      ]
     },
     "execution_count": 48,
     "metadata": {},
     "output_type": "execute_result"
    }
   ],
   "source": [
    "chain.blocks"
   ]
  },
  {
   "cell_type": "code",
   "execution_count": 49,
   "metadata": {},
   "outputs": [],
   "source": [
    "block = Block()"
   ]
  },
  {
   "cell_type": "code",
   "execution_count": 50,
   "metadata": {},
   "outputs": [],
   "source": [
    "block.append(alice.send_help(to=bob.public, amount=2.5))\n",
    "block.append(bob.send_help(to=jon.public, amount=5.0))\n",
    "block.append(jon.send_help(to=alice.public, amount=10.0))"
   ]
  },
  {
   "cell_type": "code",
   "execution_count": 51,
   "metadata": {},
   "outputs": [
    {
     "name": "stdout",
     "output_type": "stream",
     "text": [
      "Found hash 00f9e4e0e6fa03900af95587639152f4370e06bd035ac3ee8056d75a9ce3e325 after 496 iterations\n"
     ]
    }
   ],
   "source": [
    "add_block_with_proof_of_work(chain, block)"
   ]
  },
  {
   "cell_type": "code",
   "execution_count": 52,
   "metadata": {},
   "outputs": [
    {
     "data": {
      "text/plain": [
       "[transactions: [Transaction(recipient='Alice', sender='Alice', amount=2.0, signature=b'', timestamp=1543081711.6849842)]\n",
       " \n",
       " previous hash: coinbase\n",
       " \n",
       " nonce: 3367901e-0799-48d1-b46f-637e172e25c7,\n",
       " transactions: [Transaction(recipient=b'wLJrx3m7PaAAHBznkGkaTcvKIv1RPiEYfhJXTLA2Dkv9WaTisxzH9/qaz0D/MJFcdoQzAeRlTHlIZXXb0IkHbA==', sender=b'6fSY2PmB8tfTcPZiiMravTkCkmWjYyTLewXoTQIAqD1aTyDdZ/k9866HzaUhw4FBOoeMqaEteIjMYDnFYvBERA==', amount=10.0, signature=b'0iX4aF6tuNd5micYLE9d7W5gViBFeGsDzxuS8ExtfxPwnuwS+lxmuFjg2Z0Z8hh8Xopagwjn+O8GoRgkR1TLMw==', timestamp=1543081723.5875883), Transaction(recipient=b'PJSLBxxGFVOhu4n1nyoNOZGcC7lUdqpKIGVkOtkuJwjI6f2LwF3C7/Ff9RX3NNYs1X7X79N6JWbASwBcqxMocg==', sender=b'wLJrx3m7PaAAHBznkGkaTcvKIv1RPiEYfhJXTLA2Dkv9WaTisxzH9/qaz0D/MJFcdoQzAeRlTHlIZXXb0IkHbA==', amount=5.0, signature=b'MVcrroA8VRwhpsqlza1tdKfohzihHclBdgRycu0Q89Wz8dKf+8Pxs4IRPcAg33Rq2lprGM3OqmreLeG4LlCRPg==', timestamp=1543081723.6789649), Transaction(recipient=b'6fSY2PmB8tfTcPZiiMravTkCkmWjYyTLewXoTQIAqD1aTyDdZ/k9866HzaUhw4FBOoeMqaEteIjMYDnFYvBERA==', sender=b'PJSLBxxGFVOhu4n1nyoNOZGcC7lUdqpKIGVkOtkuJwjI6f2LwF3C7/Ff9RX3NNYs1X7X79N6JWbASwBcqxMocg==', amount=2.5, signature=b'q673f2UpmxQMVHbZyKECqs8PGG6dsxHP90iFcPICGFWh/Qi0S48+02mHudga4wCxLugl6qRgOCEaWzo3FkFktw==', timestamp=1543081723.768592)]\n",
       " \n",
       " previous hash: 00e84f8cca8b7ab7c0809863df7ac87339bfe0c92943e117b710abefa9cba645\n",
       " \n",
       " nonce: 1f2abf47-263f-4cac-b531-ae75d1553403,\n",
       " transactions: [Transaction(recipient=b'wLJrx3m7PaAAHBznkGkaTcvKIv1RPiEYfhJXTLA2Dkv9WaTisxzH9/qaz0D/MJFcdoQzAeRlTHlIZXXb0IkHbA==', sender=b'6fSY2PmB8tfTcPZiiMravTkCkmWjYyTLewXoTQIAqD1aTyDdZ/k9866HzaUhw4FBOoeMqaEteIjMYDnFYvBERA==', amount=2.5, signature=b'5uPEqBHVvFEwezc71UtbAzaeSBbZa+lRG5aWVK0AfqktDoZbB/GuwLk005CYdajM4QD3K4ZJhaU4J6bZQJcZAA==', timestamp=1543081770.1065383), Transaction(recipient=b'PJSLBxxGFVOhu4n1nyoNOZGcC7lUdqpKIGVkOtkuJwjI6f2LwF3C7/Ff9RX3NNYs1X7X79N6JWbASwBcqxMocg==', sender=b'wLJrx3m7PaAAHBznkGkaTcvKIv1RPiEYfhJXTLA2Dkv9WaTisxzH9/qaz0D/MJFcdoQzAeRlTHlIZXXb0IkHbA==', amount=5.0, signature=b'J7hvvdtSAp/aZBRLOQ1FIfqHhrqzryZSn0z7h5zk5lX2tddvu6gyJXiEdCAK3Z1gUbQA5xPcb8ZNUiqwz3JOhw==', timestamp=1543081770.1982374), Transaction(recipient=b'6fSY2PmB8tfTcPZiiMravTkCkmWjYyTLewXoTQIAqD1aTyDdZ/k9866HzaUhw4FBOoeMqaEteIjMYDnFYvBERA==', sender=b'PJSLBxxGFVOhu4n1nyoNOZGcC7lUdqpKIGVkOtkuJwjI6f2LwF3C7/Ff9RX3NNYs1X7X79N6JWbASwBcqxMocg==', amount=10.0, signature=b'kdmxkjFIDjvaMaFKFeh2qDyeShq+GLRugWHsIXjsvPI69I8b1rgpYzoSjqSppMYbnF2iX0jEAkl8/NsnErc24g==', timestamp=1543081770.2898593)]\n",
       " \n",
       " previous hash: 00f9e4e0e6fa03900af95587639152f4370e06bd035ac3ee8056d75a9ce3e325\n",
       " \n",
       " nonce: blahblahblah]"
      ]
     },
     "execution_count": 52,
     "metadata": {},
     "output_type": "execute_result"
    }
   ],
   "source": [
    "chain.blocks"
   ]
  },
  {
   "cell_type": "markdown",
   "metadata": {},
   "source": [
    "Okay, we sufficiently ridiculous-ified. However, it looks so scary only because of public keys and cryptographic signature. If we ignore those strings, things are actually very simple: \n",
    "\n",
    "1. There are transactions with who gave help to whom and a signature so there is a way to validate the transaction. \n",
    "2. There is a `nonce` field that we use to calculate hash for next block. \n",
    "3. There is a prevous hash field.\n",
    "\n",
    "You probably noticed that anyone can send any amount of help units. How do we make sure that help units appear only from mining? We don't. We just make a rule that people can spend only as much as they have and only miners can assign value to themselves. As long as miners verify work of others, they will follow any kind of verifiable rules. In order to make sure a person doesn't spend more than she has, miners just need to sum up all the transactions involving that public address. A rule that transactions are valid only in rainy weather will not work because our chain doesn't contain this information."
   ]
  },
  {
   "cell_type": "markdown",
   "metadata": {},
   "source": [
    "## Is this all there is to blockchain and cryptocoins?"
   ]
  },
  {
   "cell_type": "markdown",
   "metadata": {},
   "source": [
    "Yes, it covers main concepts. And no, I wouldn't trust more than a dollar to this particular one (even if we don't take into account lots of small missing parts). When I started this quest, I suspected that it's possible to uncover details that I wouldn't find just by reading articles about blockchains. The digest of what I learned while writing this simple blockchain is in `5 Things I learned from Implementing a Simple Blockchain`."
   ]
  },
  {
   "cell_type": "markdown",
   "metadata": {},
   "source": [
    "# 5 Things I learned from Implementing a Simple Blockchain"
   ]
  },
  {
   "cell_type": "markdown",
   "metadata": {},
   "source": [
    "I went on a quest to implement cryptocurency concepts in code. In my prevous article `In code we trust`, I argued that one must impement cryptocurrency concepts in code in order to understand them. I still stand by that statement but now I understand why very few bloggers do that. It is very boring to read. Don't get me wrong; it was fun to think about it and write code but I must be honest with myself and admit that very few people will want to read it carefully. My `Chain of thought` jupyter notebook is for those brave souls. The rest of the article focuses on lessons I learned while writing code for a simple blockchain.\n",
    "\n",
    "[pic]\n",
    "\n",
    "## Not money\n",
    "It's better to __not__ think of cryptocurrency as money. It's an immutable list of transactions. When you add entities that maintain the ledger and validate each other entries, the most apparant application is to \"send\" units of value from one address to another. The true value of such ledgers comes from enabling cooperation between people, autobeings, aliens, unicorns, or anything else that follows the protocol. \n",
    "\n",
    "## Not complicated\n",
    "It turns out that the main concepts are very simple. I reconstructed them with very few lines of code starting from a simple list of transactions and making any attempts to tamper apparent. Specific implementation matters a lot. That is what separates successful coin worth millions of dollars from worthless crap.\n",
    "\n",
    "## Not a database\n",
    "I kind of knew that before but I didn't really appreciate how special the first and the last blocks are. Blockchain itself is a crappy database. It's only good for verifying chain integrity. It's incredibly inefficient even at that task. Any blockchain should have a better data format on top of it. It would be interesting to check what data formats are used by famous coins.\n",
    "\n",
    "## Game of rules\n",
    "It's fascinating that a lot of coin rules don't need to be spelled out explicitly in the blockchain. They are reinforced only by miner implementation. For example, blockchain doesn't need to contain wallet balances. It's calculated by summing up all the transactions with the wallet's public key. This is a cool feature but it's easy to create ambigious rules or rules with unintended consequences. Let's say we allow a negative balance in our transactions. It might work for a while until some smart soul realizes that she can create wallets, empty them down to that negative amount into another wallet, and abandon the ones with negative amounts. Even though the example is simple, the relationship between negative account balance and the ability to limitlessly print the coin is not very apparent. It seems to me that complexity increases with the number of those rules. With complexity the chance of unintended consequences increases as well.\n",
    "\n",
    "## Validation right\n",
    "Destributing validation right using proof of work is genius but it feels wrong. It reminds me the famous Arthur C. Clarke story [The Nine Billion Names of God](https://en.wikipedia.org/wiki/The_Nine_Billion_Names_of_God). No wonder people are looking for alternatives. I wish there was some law of quantum randomness that could distribute validation rights and didn't accept bribes. I doubt it's possible in this universe though.\n",
    "\n",
    "## What's next?\n",
    "First, I'm going to look into some real blockchain formats like Bitcoin, Ethereum, Steem, and maybe another interesting coin. There must be immutable database-like structures that are already implemented. After that, I'll work on some tools that can tell me some stats about blockchains. The rule is that the longest chain wins but I'm curious how many blocks die on average, replaced by a longer chain.\n",
    "\n",
    "I'm going to continue to explore the cryptoverse through code. Any suggestions on which areas I should focus? "
   ]
  },
  {
   "cell_type": "code",
   "execution_count": null,
   "metadata": {},
   "outputs": [],
   "source": []
  }
 ],
 "metadata": {
  "kernelspec": {
   "display_name": "Python 3",
   "language": "python",
   "name": "python3"
  },
  "language_info": {
   "codemirror_mode": {
    "name": "ipython",
    "version": 3
   },
   "file_extension": ".py",
   "mimetype": "text/x-python",
   "name": "python",
   "nbconvert_exporter": "python",
   "pygments_lexer": "ipython3",
   "version": "3.7.0"
  }
 },
 "nbformat": 4,
 "nbformat_minor": 2
}
