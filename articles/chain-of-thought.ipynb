{
 "cells": [
  {
   "cell_type": "markdown",
   "metadata": {},
   "source": [
    "There is a group of about 300 people who want to help each other. The problem is that a single person can meaningfully keep track of 150 people but all 300 want to cooperate and do it fairly to each other. How can they do that?\n",
    "\n",
    "It's sad that you will not find the problem in any school book. If you did, the initial answer would be simple. Why don't they write down who helped whom and how much. For convinience they even can use 1 help unit called hlp."
   ]
  },
  {
   "cell_type": "code",
   "execution_count": 1,
   "metadata": {},
   "outputs": [],
   "source": [
    "from dataclasses import dataclass, field\n",
    "from time import time\n",
    "\n",
    "@dataclass\n",
    "class Transaction:\n",
    "    recipient: str\n",
    "    sender: str\n",
    "    amount: float\n",
    "    timestamp: float = field(default_factory=time)\n",
    "\n",
    "block = []"
   ]
  },
  {
   "cell_type": "markdown",
   "metadata": {},
   "source": [
    "Now we can just put them on the chain."
   ]
  },
  {
   "cell_type": "code",
   "execution_count": 2,
   "metadata": {},
   "outputs": [],
   "source": [
    "block.append(Transaction(\n",
    "    sender='Alise', recipient='Bob', amount=2.0\n",
    "))\n",
    "block.append(Transaction(\n",
    "    sender='Bob', recipient='Jon', amount=4.5\n",
    "))"
   ]
  },
  {
   "cell_type": "code",
   "execution_count": 3,
   "metadata": {},
   "outputs": [
    {
     "data": {
      "text/plain": [
       "[Transaction(recipient='Bob', sender='Alise', amount=2.0, timestamp=1541953013.3726277),\n",
       " Transaction(recipient='Jon', sender='Bob', amount=4.5, timestamp=1541953013.3726985)]"
      ]
     },
     "execution_count": 3,
     "metadata": {},
     "output_type": "execute_result"
    }
   ],
   "source": [
    "block"
   ]
  },
  {
   "cell_type": "markdown",
   "metadata": {},
   "source": [
    "This covers direct person to person cooperation. Everyone is happy. If someone tries to cooperate inderectly, things fall apart. Since anyone can update the chain, transactions can be removed. If people try to exchange units of help there is an insentive to mess with the transaction list. Hm, how can we fix it? Let's chain those blocks so transactions can only be added."
   ]
  },
  {
   "cell_type": "code",
   "execution_count": 68,
   "metadata": {},
   "outputs": [],
   "source": [
    "import hashlib\n",
    "\n",
    "class Block:\n",
    "    transactions: list\n",
    "    previous_hash: str = 'coinbase'\n",
    "\n",
    "    def __init__(self):\n",
    "        self.transactions = []\n",
    "\n",
    "    def append(self, t: Transaction):\n",
    "        self.transactions.append(t)\n",
    "    \n",
    "    def __repr__(self):\n",
    "        return 'transactions: {}\\n\\nprevious hash: {}'.format(self.transactions.__repr__(), self.previous_hash)\n",
    "    \n",
    "    def hash(self):\n",
    "        return hashlib.sha256(str(self).encode()).hexdigest()\n",
    "        "
   ]
  },
  {
   "cell_type": "code",
   "execution_count": 69,
   "metadata": {},
   "outputs": [],
   "source": [
    "block = Block()\n",
    "block.append(Transaction(\n",
    "    sender='Alise', recipient='Bob', amount=2.0\n",
    "))\n",
    "block.append(Transaction(\n",
    "    sender='Bob', recipient='Jon', amount=4.5\n",
    "))"
   ]
  },
  {
   "cell_type": "code",
   "execution_count": 70,
   "metadata": {},
   "outputs": [
    {
     "data": {
      "text/plain": [
       "transactions: [Transaction(recipient='Bob', sender='Alise', amount=2.0, timestamp=1541954503.6024055), Transaction(recipient='Jon', sender='Bob', amount=4.5, timestamp=1541954503.6025043)]\n",
       "\n",
       "previous hash: coinbase"
      ]
     },
     "execution_count": 70,
     "metadata": {},
     "output_type": "execute_result"
    }
   ],
   "source": [
    "block"
   ]
  },
  {
   "cell_type": "code",
   "execution_count": 71,
   "metadata": {},
   "outputs": [
    {
     "data": {
      "text/plain": [
       "'8107add94b3d0d04eea002979089aea9018deaae47f432857bcc301e2149fdde'"
      ]
     },
     "execution_count": 71,
     "metadata": {},
     "output_type": "execute_result"
    }
   ],
   "source": [
    "block.hash()"
   ]
  },
  {
   "cell_type": "markdown",
   "metadata": {},
   "source": [
    "Hey, look at that! We got short and unique (for our purpuses) representation of our block and all the transactions in it."
   ]
  },
  {
   "cell_type": "code",
   "execution_count": 72,
   "metadata": {},
   "outputs": [
    {
     "data": {
      "text/plain": [
       "'8107add94b3d0d04eea002979089aea9018deaae47f432857bcc301e2149fdde'"
      ]
     },
     "execution_count": 72,
     "metadata": {},
     "output_type": "execute_result"
    }
   ],
   "source": [
    "block.hash()"
   ]
  },
  {
   "cell_type": "code",
   "execution_count": 73,
   "metadata": {},
   "outputs": [],
   "source": [
    "block.append(Transaction(\n",
    "    sender='Jon', recipient='Bob', amount=1.0\n",
    "))"
   ]
  },
  {
   "cell_type": "code",
   "execution_count": 74,
   "metadata": {},
   "outputs": [
    {
     "data": {
      "text/plain": [
       "'c3c84e37361404b64a397fd641bf6ed2da3c8cf3c47f2c5d3f0678e12b1bb49f'"
      ]
     },
     "execution_count": 74,
     "metadata": {},
     "output_type": "execute_result"
    }
   ],
   "source": [
    "block.hash()"
   ]
  },
  {
   "cell_type": "markdown",
   "metadata": {},
   "source": [
    "We need to represent a block in something hashable. We don't need anything fancy at this point so `__repr__` will give us what we need. Now let's add smarter chain class."
   ]
  },
  {
   "cell_type": "code",
   "execution_count": 89,
   "metadata": {},
   "outputs": [],
   "source": [
    "import itertools\n",
    "\n",
    "\n",
    "class Chain:\n",
    "    blocks: list\n",
    "\n",
    "    def __init__(self):\n",
    "        \"\"\"We need initial block\"\"\"\n",
    "        block = Block()\n",
    "        block.append(Transaction(\n",
    "            sender='Alise', recipient='Alise', amount=2.0\n",
    "        ))\n",
    "        self.blocks = [block]\n",
    "\n",
    "    def push(self, block: Block):\n",
    "        block.previous_hash = self.blocks[-1].hash()\n",
    "        self.blocks.append(block)\n",
    "\n",
    "    @property\n",
    "    def tempared(self):\n",
    "        \"\"\"\n",
    "        It gives you possition of invalid block according to it's naighbour to the right.\n",
    "        If chain looks good it returns 0.\n",
    "        \"\"\"\n",
    "        a, b = itertools.tee(self.blocks)\n",
    "        next(b, None)\n",
    "        for position, pair in enumerate(zip(a, b)):\n",
    "            if pair[0].hash() != pair[1].previous_hash:\n",
    "                return position\n",
    "        return -1\n",
    "\n",
    "    @property\n",
    "    def is_valid(self):\n",
    "        if self.tempared < 0:\n",
    "            return True\n",
    "        return False\n",
    "        "
   ]
  },
  {
   "cell_type": "code",
   "execution_count": 110,
   "metadata": {},
   "outputs": [],
   "source": [
    "chain = Chain()"
   ]
  },
  {
   "cell_type": "code",
   "execution_count": 111,
   "metadata": {},
   "outputs": [
    {
     "data": {
      "text/plain": [
       "[transactions: [Transaction(recipient='Alise', sender='Alise', amount=2.0, timestamp=1541955544.5083797)]\n",
       " \n",
       " previous hash: coinbase]"
      ]
     },
     "execution_count": 111,
     "metadata": {},
     "output_type": "execute_result"
    }
   ],
   "source": [
    "chain.blocks"
   ]
  },
  {
   "cell_type": "code",
   "execution_count": 112,
   "metadata": {},
   "outputs": [],
   "source": [
    "for _ in range(10):\n",
    "    block = Block()\n",
    "    for j in range(3):\n",
    "        block.append(Transaction(sender='Bob', recipient='Jon', amount=j))\n",
    "    chain.push(block)"
   ]
  },
  {
   "cell_type": "code",
   "execution_count": 113,
   "metadata": {},
   "outputs": [
    {
     "data": {
      "text/plain": [
       "True"
      ]
     },
     "execution_count": 113,
     "metadata": {},
     "output_type": "execute_result"
    }
   ],
   "source": [
    "chain.is_valid"
   ]
  },
  {
   "cell_type": "code",
   "execution_count": 114,
   "metadata": {},
   "outputs": [
    {
     "data": {
      "text/plain": [
       "Transaction(recipient='Alise', sender='Alise', amount=2.0, timestamp=1541955544.5083797)"
      ]
     },
     "execution_count": 114,
     "metadata": {},
     "output_type": "execute_result"
    }
   ],
   "source": [
    "borrowed = chain.blocks[0].transactions.pop()\n",
    "borrowed"
   ]
  },
  {
   "cell_type": "code",
   "execution_count": 115,
   "metadata": {},
   "outputs": [
    {
     "data": {
      "text/plain": [
       "False"
      ]
     },
     "execution_count": 115,
     "metadata": {},
     "output_type": "execute_result"
    }
   ],
   "source": [
    "chain.is_valid"
   ]
  },
  {
   "cell_type": "code",
   "execution_count": 116,
   "metadata": {},
   "outputs": [
    {
     "data": {
      "text/plain": [
       "0"
      ]
     },
     "execution_count": 116,
     "metadata": {},
     "output_type": "execute_result"
    }
   ],
   "source": [
    "chain.tempared"
   ]
  },
  {
   "cell_type": "markdown",
   "metadata": {},
   "source": [
    "Let's put borrowed transaction back."
   ]
  },
  {
   "cell_type": "code",
   "execution_count": 117,
   "metadata": {},
   "outputs": [],
   "source": [
    "chain.blocks[0].transactions.append(borrowed)"
   ]
  },
  {
   "cell_type": "code",
   "execution_count": 118,
   "metadata": {},
   "outputs": [
    {
     "data": {
      "text/plain": [
       "True"
      ]
     },
     "execution_count": 118,
     "metadata": {},
     "output_type": "execute_result"
    }
   ],
   "source": [
    "chain.is_valid"
   ]
  },
  {
   "cell_type": "markdown",
   "metadata": {},
   "source": [
    "We can only mess with transactions in the last block."
   ]
  },
  {
   "cell_type": "code",
   "execution_count": 120,
   "metadata": {},
   "outputs": [],
   "source": [
    "chain.blocks[-1].append(Transaction(recipient='Alise', sender='Jon', amount=5))"
   ]
  },
  {
   "cell_type": "code",
   "execution_count": 121,
   "metadata": {},
   "outputs": [
    {
     "data": {
      "text/plain": [
       "True"
      ]
     },
     "execution_count": 121,
     "metadata": {},
     "output_type": "execute_result"
    }
   ],
   "source": [
    "chain.is_valid"
   ]
  },
  {
   "cell_type": "code",
   "execution_count": null,
   "metadata": {},
   "outputs": [],
   "source": []
  }
 ],
 "metadata": {
  "kernelspec": {
   "display_name": "Python 3",
   "language": "python",
   "name": "python3"
  },
  "language_info": {
   "codemirror_mode": {
    "name": "ipython",
    "version": 3
   },
   "file_extension": ".py",
   "mimetype": "text/x-python",
   "name": "python",
   "nbconvert_exporter": "python",
   "pygments_lexer": "ipython3",
   "version": "3.7.0"
  }
 },
 "nbformat": 4,
 "nbformat_minor": 2
}
